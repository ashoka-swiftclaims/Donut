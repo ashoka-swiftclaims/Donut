{
  "nbformat": 4,
  "nbformat_minor": 0,
  "metadata": {
    "colab": {
      "provenance": [],
      "authorship_tag": "ABX9TyNiNzOOThgoXmrY5jCy6/Bv",
      "include_colab_link": true
    },
    "kernelspec": {
      "name": "python3",
      "display_name": "Python 3"
    },
    "language_info": {
      "name": "python"
    },
    "widgets": {
      "application/vnd.jupyter.widget-state+json": {
        "7738f4ef2b59491c80d606c46c55c13f": {
          "model_module": "@jupyter-widgets/controls",
          "model_name": "VBoxModel",
          "model_module_version": "1.5.0",
          "state": {
            "_dom_classes": [],
            "_model_module": "@jupyter-widgets/controls",
            "_model_module_version": "1.5.0",
            "_model_name": "VBoxModel",
            "_view_count": null,
            "_view_module": "@jupyter-widgets/controls",
            "_view_module_version": "1.5.0",
            "_view_name": "VBoxView",
            "box_style": "",
            "children": [
              "IPY_MODEL_486f2850c5634c0d89d9071a79634798",
              "IPY_MODEL_c87598cf4ebf4b1e9beca7a8d1443d80",
              "IPY_MODEL_6900b92898b94a2abd2909c1a308f99b",
              "IPY_MODEL_d5aad130e98645f2b1fff63dc0a6361b",
              "IPY_MODEL_04ebd61a9d094fc7bb996e7dff239d89"
            ],
            "layout": "IPY_MODEL_d615dafd3c2a43c7b2339339a14d15b6"
          }
        },
        "486f2850c5634c0d89d9071a79634798": {
          "model_module": "@jupyter-widgets/controls",
          "model_name": "HTMLModel",
          "model_module_version": "1.5.0",
          "state": {
            "_dom_classes": [],
            "_model_module": "@jupyter-widgets/controls",
            "_model_module_version": "1.5.0",
            "_model_name": "HTMLModel",
            "_view_count": null,
            "_view_module": "@jupyter-widgets/controls",
            "_view_module_version": "1.5.0",
            "_view_name": "HTMLView",
            "description": "",
            "description_tooltip": null,
            "layout": "IPY_MODEL_ba1d0fbb3fb34e948e25933a979ffb2f",
            "placeholder": "​",
            "style": "IPY_MODEL_71077ba3e082402b888d3a839ec513ca",
            "value": "<center> <img\nsrc=https://huggingface.co/front/assets/huggingface_logo-noborder.svg\nalt='Hugging Face'> <br> Copy a token from <a\nhref=\"https://huggingface.co/settings/tokens\" target=\"_blank\">your Hugging Face\ntokens page</a> and paste it below. <br> Immediately click login after copying\nyour token or it might be stored in plain text in this notebook file. </center>"
          }
        },
        "c87598cf4ebf4b1e9beca7a8d1443d80": {
          "model_module": "@jupyter-widgets/controls",
          "model_name": "PasswordModel",
          "model_module_version": "1.5.0",
          "state": {
            "_dom_classes": [],
            "_model_module": "@jupyter-widgets/controls",
            "_model_module_version": "1.5.0",
            "_model_name": "PasswordModel",
            "_view_count": null,
            "_view_module": "@jupyter-widgets/controls",
            "_view_module_version": "1.5.0",
            "_view_name": "PasswordView",
            "continuous_update": true,
            "description": "Token:",
            "description_tooltip": null,
            "disabled": false,
            "layout": "IPY_MODEL_b30417d7bfa246499f46994f80b0e0b4",
            "placeholder": "​",
            "style": "IPY_MODEL_182619ea81684282ac98341e00e687c5",
            "value": ""
          }
        },
        "6900b92898b94a2abd2909c1a308f99b": {
          "model_module": "@jupyter-widgets/controls",
          "model_name": "CheckboxModel",
          "model_module_version": "1.5.0",
          "state": {
            "_dom_classes": [],
            "_model_module": "@jupyter-widgets/controls",
            "_model_module_version": "1.5.0",
            "_model_name": "CheckboxModel",
            "_view_count": null,
            "_view_module": "@jupyter-widgets/controls",
            "_view_module_version": "1.5.0",
            "_view_name": "CheckboxView",
            "description": "Add token as git credential?",
            "description_tooltip": null,
            "disabled": false,
            "indent": true,
            "layout": "IPY_MODEL_7ba1ff845e2d42d088decfb50896eb94",
            "style": "IPY_MODEL_588c606c99664f4082fdf9a75444adad",
            "value": true
          }
        },
        "d5aad130e98645f2b1fff63dc0a6361b": {
          "model_module": "@jupyter-widgets/controls",
          "model_name": "ButtonModel",
          "model_module_version": "1.5.0",
          "state": {
            "_dom_classes": [],
            "_model_module": "@jupyter-widgets/controls",
            "_model_module_version": "1.5.0",
            "_model_name": "ButtonModel",
            "_view_count": null,
            "_view_module": "@jupyter-widgets/controls",
            "_view_module_version": "1.5.0",
            "_view_name": "ButtonView",
            "button_style": "",
            "description": "Login",
            "disabled": false,
            "icon": "",
            "layout": "IPY_MODEL_9874a9a05e794511aeab584aa3893314",
            "style": "IPY_MODEL_2fb1736354ee434aad5bd20aead4d6cf",
            "tooltip": ""
          }
        },
        "04ebd61a9d094fc7bb996e7dff239d89": {
          "model_module": "@jupyter-widgets/controls",
          "model_name": "HTMLModel",
          "model_module_version": "1.5.0",
          "state": {
            "_dom_classes": [],
            "_model_module": "@jupyter-widgets/controls",
            "_model_module_version": "1.5.0",
            "_model_name": "HTMLModel",
            "_view_count": null,
            "_view_module": "@jupyter-widgets/controls",
            "_view_module_version": "1.5.0",
            "_view_name": "HTMLView",
            "description": "",
            "description_tooltip": null,
            "layout": "IPY_MODEL_3cc62bf6b921446c9fc69834f441d623",
            "placeholder": "​",
            "style": "IPY_MODEL_dc202d0a4e904ab28d4e93bdc1e624af",
            "value": "\n<b>Pro Tip:</b> If you don't already have one, you can create a dedicated\n'notebooks' token with 'write' access, that you can then easily reuse for all\nnotebooks. </center>"
          }
        },
        "d615dafd3c2a43c7b2339339a14d15b6": {
          "model_module": "@jupyter-widgets/base",
          "model_name": "LayoutModel",
          "model_module_version": "1.2.0",
          "state": {
            "_model_module": "@jupyter-widgets/base",
            "_model_module_version": "1.2.0",
            "_model_name": "LayoutModel",
            "_view_count": null,
            "_view_module": "@jupyter-widgets/base",
            "_view_module_version": "1.2.0",
            "_view_name": "LayoutView",
            "align_content": null,
            "align_items": "center",
            "align_self": null,
            "border": null,
            "bottom": null,
            "display": "flex",
            "flex": null,
            "flex_flow": "column",
            "grid_area": null,
            "grid_auto_columns": null,
            "grid_auto_flow": null,
            "grid_auto_rows": null,
            "grid_column": null,
            "grid_gap": null,
            "grid_row": null,
            "grid_template_areas": null,
            "grid_template_columns": null,
            "grid_template_rows": null,
            "height": null,
            "justify_content": null,
            "justify_items": null,
            "left": null,
            "margin": null,
            "max_height": null,
            "max_width": null,
            "min_height": null,
            "min_width": null,
            "object_fit": null,
            "object_position": null,
            "order": null,
            "overflow": null,
            "overflow_x": null,
            "overflow_y": null,
            "padding": null,
            "right": null,
            "top": null,
            "visibility": null,
            "width": "50%"
          }
        },
        "ba1d0fbb3fb34e948e25933a979ffb2f": {
          "model_module": "@jupyter-widgets/base",
          "model_name": "LayoutModel",
          "model_module_version": "1.2.0",
          "state": {
            "_model_module": "@jupyter-widgets/base",
            "_model_module_version": "1.2.0",
            "_model_name": "LayoutModel",
            "_view_count": null,
            "_view_module": "@jupyter-widgets/base",
            "_view_module_version": "1.2.0",
            "_view_name": "LayoutView",
            "align_content": null,
            "align_items": null,
            "align_self": null,
            "border": null,
            "bottom": null,
            "display": null,
            "flex": null,
            "flex_flow": null,
            "grid_area": null,
            "grid_auto_columns": null,
            "grid_auto_flow": null,
            "grid_auto_rows": null,
            "grid_column": null,
            "grid_gap": null,
            "grid_row": null,
            "grid_template_areas": null,
            "grid_template_columns": null,
            "grid_template_rows": null,
            "height": null,
            "justify_content": null,
            "justify_items": null,
            "left": null,
            "margin": null,
            "max_height": null,
            "max_width": null,
            "min_height": null,
            "min_width": null,
            "object_fit": null,
            "object_position": null,
            "order": null,
            "overflow": null,
            "overflow_x": null,
            "overflow_y": null,
            "padding": null,
            "right": null,
            "top": null,
            "visibility": null,
            "width": null
          }
        },
        "71077ba3e082402b888d3a839ec513ca": {
          "model_module": "@jupyter-widgets/controls",
          "model_name": "DescriptionStyleModel",
          "model_module_version": "1.5.0",
          "state": {
            "_model_module": "@jupyter-widgets/controls",
            "_model_module_version": "1.5.0",
            "_model_name": "DescriptionStyleModel",
            "_view_count": null,
            "_view_module": "@jupyter-widgets/base",
            "_view_module_version": "1.2.0",
            "_view_name": "StyleView",
            "description_width": ""
          }
        },
        "b30417d7bfa246499f46994f80b0e0b4": {
          "model_module": "@jupyter-widgets/base",
          "model_name": "LayoutModel",
          "model_module_version": "1.2.0",
          "state": {
            "_model_module": "@jupyter-widgets/base",
            "_model_module_version": "1.2.0",
            "_model_name": "LayoutModel",
            "_view_count": null,
            "_view_module": "@jupyter-widgets/base",
            "_view_module_version": "1.2.0",
            "_view_name": "LayoutView",
            "align_content": null,
            "align_items": null,
            "align_self": null,
            "border": null,
            "bottom": null,
            "display": null,
            "flex": null,
            "flex_flow": null,
            "grid_area": null,
            "grid_auto_columns": null,
            "grid_auto_flow": null,
            "grid_auto_rows": null,
            "grid_column": null,
            "grid_gap": null,
            "grid_row": null,
            "grid_template_areas": null,
            "grid_template_columns": null,
            "grid_template_rows": null,
            "height": null,
            "justify_content": null,
            "justify_items": null,
            "left": null,
            "margin": null,
            "max_height": null,
            "max_width": null,
            "min_height": null,
            "min_width": null,
            "object_fit": null,
            "object_position": null,
            "order": null,
            "overflow": null,
            "overflow_x": null,
            "overflow_y": null,
            "padding": null,
            "right": null,
            "top": null,
            "visibility": null,
            "width": null
          }
        },
        "182619ea81684282ac98341e00e687c5": {
          "model_module": "@jupyter-widgets/controls",
          "model_name": "DescriptionStyleModel",
          "model_module_version": "1.5.0",
          "state": {
            "_model_module": "@jupyter-widgets/controls",
            "_model_module_version": "1.5.0",
            "_model_name": "DescriptionStyleModel",
            "_view_count": null,
            "_view_module": "@jupyter-widgets/base",
            "_view_module_version": "1.2.0",
            "_view_name": "StyleView",
            "description_width": ""
          }
        },
        "7ba1ff845e2d42d088decfb50896eb94": {
          "model_module": "@jupyter-widgets/base",
          "model_name": "LayoutModel",
          "model_module_version": "1.2.0",
          "state": {
            "_model_module": "@jupyter-widgets/base",
            "_model_module_version": "1.2.0",
            "_model_name": "LayoutModel",
            "_view_count": null,
            "_view_module": "@jupyter-widgets/base",
            "_view_module_version": "1.2.0",
            "_view_name": "LayoutView",
            "align_content": null,
            "align_items": null,
            "align_self": null,
            "border": null,
            "bottom": null,
            "display": null,
            "flex": null,
            "flex_flow": null,
            "grid_area": null,
            "grid_auto_columns": null,
            "grid_auto_flow": null,
            "grid_auto_rows": null,
            "grid_column": null,
            "grid_gap": null,
            "grid_row": null,
            "grid_template_areas": null,
            "grid_template_columns": null,
            "grid_template_rows": null,
            "height": null,
            "justify_content": null,
            "justify_items": null,
            "left": null,
            "margin": null,
            "max_height": null,
            "max_width": null,
            "min_height": null,
            "min_width": null,
            "object_fit": null,
            "object_position": null,
            "order": null,
            "overflow": null,
            "overflow_x": null,
            "overflow_y": null,
            "padding": null,
            "right": null,
            "top": null,
            "visibility": null,
            "width": null
          }
        },
        "588c606c99664f4082fdf9a75444adad": {
          "model_module": "@jupyter-widgets/controls",
          "model_name": "DescriptionStyleModel",
          "model_module_version": "1.5.0",
          "state": {
            "_model_module": "@jupyter-widgets/controls",
            "_model_module_version": "1.5.0",
            "_model_name": "DescriptionStyleModel",
            "_view_count": null,
            "_view_module": "@jupyter-widgets/base",
            "_view_module_version": "1.2.0",
            "_view_name": "StyleView",
            "description_width": ""
          }
        },
        "9874a9a05e794511aeab584aa3893314": {
          "model_module": "@jupyter-widgets/base",
          "model_name": "LayoutModel",
          "model_module_version": "1.2.0",
          "state": {
            "_model_module": "@jupyter-widgets/base",
            "_model_module_version": "1.2.0",
            "_model_name": "LayoutModel",
            "_view_count": null,
            "_view_module": "@jupyter-widgets/base",
            "_view_module_version": "1.2.0",
            "_view_name": "LayoutView",
            "align_content": null,
            "align_items": null,
            "align_self": null,
            "border": null,
            "bottom": null,
            "display": null,
            "flex": null,
            "flex_flow": null,
            "grid_area": null,
            "grid_auto_columns": null,
            "grid_auto_flow": null,
            "grid_auto_rows": null,
            "grid_column": null,
            "grid_gap": null,
            "grid_row": null,
            "grid_template_areas": null,
            "grid_template_columns": null,
            "grid_template_rows": null,
            "height": null,
            "justify_content": null,
            "justify_items": null,
            "left": null,
            "margin": null,
            "max_height": null,
            "max_width": null,
            "min_height": null,
            "min_width": null,
            "object_fit": null,
            "object_position": null,
            "order": null,
            "overflow": null,
            "overflow_x": null,
            "overflow_y": null,
            "padding": null,
            "right": null,
            "top": null,
            "visibility": null,
            "width": null
          }
        },
        "2fb1736354ee434aad5bd20aead4d6cf": {
          "model_module": "@jupyter-widgets/controls",
          "model_name": "ButtonStyleModel",
          "model_module_version": "1.5.0",
          "state": {
            "_model_module": "@jupyter-widgets/controls",
            "_model_module_version": "1.5.0",
            "_model_name": "ButtonStyleModel",
            "_view_count": null,
            "_view_module": "@jupyter-widgets/base",
            "_view_module_version": "1.2.0",
            "_view_name": "StyleView",
            "button_color": null,
            "font_weight": ""
          }
        },
        "3cc62bf6b921446c9fc69834f441d623": {
          "model_module": "@jupyter-widgets/base",
          "model_name": "LayoutModel",
          "model_module_version": "1.2.0",
          "state": {
            "_model_module": "@jupyter-widgets/base",
            "_model_module_version": "1.2.0",
            "_model_name": "LayoutModel",
            "_view_count": null,
            "_view_module": "@jupyter-widgets/base",
            "_view_module_version": "1.2.0",
            "_view_name": "LayoutView",
            "align_content": null,
            "align_items": null,
            "align_self": null,
            "border": null,
            "bottom": null,
            "display": null,
            "flex": null,
            "flex_flow": null,
            "grid_area": null,
            "grid_auto_columns": null,
            "grid_auto_flow": null,
            "grid_auto_rows": null,
            "grid_column": null,
            "grid_gap": null,
            "grid_row": null,
            "grid_template_areas": null,
            "grid_template_columns": null,
            "grid_template_rows": null,
            "height": null,
            "justify_content": null,
            "justify_items": null,
            "left": null,
            "margin": null,
            "max_height": null,
            "max_width": null,
            "min_height": null,
            "min_width": null,
            "object_fit": null,
            "object_position": null,
            "order": null,
            "overflow": null,
            "overflow_x": null,
            "overflow_y": null,
            "padding": null,
            "right": null,
            "top": null,
            "visibility": null,
            "width": null
          }
        },
        "dc202d0a4e904ab28d4e93bdc1e624af": {
          "model_module": "@jupyter-widgets/controls",
          "model_name": "DescriptionStyleModel",
          "model_module_version": "1.5.0",
          "state": {
            "_model_module": "@jupyter-widgets/controls",
            "_model_module_version": "1.5.0",
            "_model_name": "DescriptionStyleModel",
            "_view_count": null,
            "_view_module": "@jupyter-widgets/base",
            "_view_module_version": "1.2.0",
            "_view_name": "StyleView",
            "description_width": ""
          }
        },
        "d4473f353f61484991b55a2b9920fa9a": {
          "model_module": "@jupyter-widgets/controls",
          "model_name": "HBoxModel",
          "model_module_version": "1.5.0",
          "state": {
            "_dom_classes": [],
            "_model_module": "@jupyter-widgets/controls",
            "_model_module_version": "1.5.0",
            "_model_name": "HBoxModel",
            "_view_count": null,
            "_view_module": "@jupyter-widgets/controls",
            "_view_module_version": "1.5.0",
            "_view_name": "HBoxView",
            "box_style": "",
            "children": [
              "IPY_MODEL_da9d05c17e0a41899f02049f69bf3c2f",
              "IPY_MODEL_18a50a5084e446f0a3d9db0fbfc576a9",
              "IPY_MODEL_23d729b2c474445a84c630e212828298"
            ],
            "layout": "IPY_MODEL_6a3f1613941a45429d5ad82dac37db56"
          }
        },
        "da9d05c17e0a41899f02049f69bf3c2f": {
          "model_module": "@jupyter-widgets/controls",
          "model_name": "HTMLModel",
          "model_module_version": "1.5.0",
          "state": {
            "_dom_classes": [],
            "_model_module": "@jupyter-widgets/controls",
            "_model_module_version": "1.5.0",
            "_model_name": "HTMLModel",
            "_view_count": null,
            "_view_module": "@jupyter-widgets/controls",
            "_view_module_version": "1.5.0",
            "_view_name": "HTMLView",
            "description": "",
            "description_tooltip": null,
            "layout": "IPY_MODEL_44daf0a964d0408eb606cb158fb1ff5c",
            "placeholder": "​",
            "style": "IPY_MODEL_93cf83ade8954b75a363920857068799",
            "value": "Generating train split: "
          }
        },
        "18a50a5084e446f0a3d9db0fbfc576a9": {
          "model_module": "@jupyter-widgets/controls",
          "model_name": "FloatProgressModel",
          "model_module_version": "1.5.0",
          "state": {
            "_dom_classes": [],
            "_model_module": "@jupyter-widgets/controls",
            "_model_module_version": "1.5.0",
            "_model_name": "FloatProgressModel",
            "_view_count": null,
            "_view_module": "@jupyter-widgets/controls",
            "_view_module_version": "1.5.0",
            "_view_name": "ProgressView",
            "bar_style": "success",
            "description": "",
            "description_tooltip": null,
            "layout": "IPY_MODEL_9835ba49b3a745bfafdcbe5d9b08573b",
            "max": 1,
            "min": 0,
            "orientation": "horizontal",
            "style": "IPY_MODEL_47ec9f0606bf49dc9c4d5cc47367360c",
            "value": 1
          }
        },
        "23d729b2c474445a84c630e212828298": {
          "model_module": "@jupyter-widgets/controls",
          "model_name": "HTMLModel",
          "model_module_version": "1.5.0",
          "state": {
            "_dom_classes": [],
            "_model_module": "@jupyter-widgets/controls",
            "_model_module_version": "1.5.0",
            "_model_name": "HTMLModel",
            "_view_count": null,
            "_view_module": "@jupyter-widgets/controls",
            "_view_module_version": "1.5.0",
            "_view_name": "HTMLView",
            "description": "",
            "description_tooltip": null,
            "layout": "IPY_MODEL_d92fda9032614ec0b86a08789bd8ccf9",
            "placeholder": "​",
            "style": "IPY_MODEL_fb5512d25b4749e3853f27a4e51cb8ad",
            "value": " 6/0 [00:00&lt;00:00, 36.10 examples/s]"
          }
        },
        "6a3f1613941a45429d5ad82dac37db56": {
          "model_module": "@jupyter-widgets/base",
          "model_name": "LayoutModel",
          "model_module_version": "1.2.0",
          "state": {
            "_model_module": "@jupyter-widgets/base",
            "_model_module_version": "1.2.0",
            "_model_name": "LayoutModel",
            "_view_count": null,
            "_view_module": "@jupyter-widgets/base",
            "_view_module_version": "1.2.0",
            "_view_name": "LayoutView",
            "align_content": null,
            "align_items": null,
            "align_self": null,
            "border": null,
            "bottom": null,
            "display": null,
            "flex": null,
            "flex_flow": null,
            "grid_area": null,
            "grid_auto_columns": null,
            "grid_auto_flow": null,
            "grid_auto_rows": null,
            "grid_column": null,
            "grid_gap": null,
            "grid_row": null,
            "grid_template_areas": null,
            "grid_template_columns": null,
            "grid_template_rows": null,
            "height": null,
            "justify_content": null,
            "justify_items": null,
            "left": null,
            "margin": null,
            "max_height": null,
            "max_width": null,
            "min_height": null,
            "min_width": null,
            "object_fit": null,
            "object_position": null,
            "order": null,
            "overflow": null,
            "overflow_x": null,
            "overflow_y": null,
            "padding": null,
            "right": null,
            "top": null,
            "visibility": null,
            "width": null
          }
        },
        "44daf0a964d0408eb606cb158fb1ff5c": {
          "model_module": "@jupyter-widgets/base",
          "model_name": "LayoutModel",
          "model_module_version": "1.2.0",
          "state": {
            "_model_module": "@jupyter-widgets/base",
            "_model_module_version": "1.2.0",
            "_model_name": "LayoutModel",
            "_view_count": null,
            "_view_module": "@jupyter-widgets/base",
            "_view_module_version": "1.2.0",
            "_view_name": "LayoutView",
            "align_content": null,
            "align_items": null,
            "align_self": null,
            "border": null,
            "bottom": null,
            "display": null,
            "flex": null,
            "flex_flow": null,
            "grid_area": null,
            "grid_auto_columns": null,
            "grid_auto_flow": null,
            "grid_auto_rows": null,
            "grid_column": null,
            "grid_gap": null,
            "grid_row": null,
            "grid_template_areas": null,
            "grid_template_columns": null,
            "grid_template_rows": null,
            "height": null,
            "justify_content": null,
            "justify_items": null,
            "left": null,
            "margin": null,
            "max_height": null,
            "max_width": null,
            "min_height": null,
            "min_width": null,
            "object_fit": null,
            "object_position": null,
            "order": null,
            "overflow": null,
            "overflow_x": null,
            "overflow_y": null,
            "padding": null,
            "right": null,
            "top": null,
            "visibility": null,
            "width": null
          }
        },
        "93cf83ade8954b75a363920857068799": {
          "model_module": "@jupyter-widgets/controls",
          "model_name": "DescriptionStyleModel",
          "model_module_version": "1.5.0",
          "state": {
            "_model_module": "@jupyter-widgets/controls",
            "_model_module_version": "1.5.0",
            "_model_name": "DescriptionStyleModel",
            "_view_count": null,
            "_view_module": "@jupyter-widgets/base",
            "_view_module_version": "1.2.0",
            "_view_name": "StyleView",
            "description_width": ""
          }
        },
        "9835ba49b3a745bfafdcbe5d9b08573b": {
          "model_module": "@jupyter-widgets/base",
          "model_name": "LayoutModel",
          "model_module_version": "1.2.0",
          "state": {
            "_model_module": "@jupyter-widgets/base",
            "_model_module_version": "1.2.0",
            "_model_name": "LayoutModel",
            "_view_count": null,
            "_view_module": "@jupyter-widgets/base",
            "_view_module_version": "1.2.0",
            "_view_name": "LayoutView",
            "align_content": null,
            "align_items": null,
            "align_self": null,
            "border": null,
            "bottom": null,
            "display": null,
            "flex": null,
            "flex_flow": null,
            "grid_area": null,
            "grid_auto_columns": null,
            "grid_auto_flow": null,
            "grid_auto_rows": null,
            "grid_column": null,
            "grid_gap": null,
            "grid_row": null,
            "grid_template_areas": null,
            "grid_template_columns": null,
            "grid_template_rows": null,
            "height": null,
            "justify_content": null,
            "justify_items": null,
            "left": null,
            "margin": null,
            "max_height": null,
            "max_width": null,
            "min_height": null,
            "min_width": null,
            "object_fit": null,
            "object_position": null,
            "order": null,
            "overflow": null,
            "overflow_x": null,
            "overflow_y": null,
            "padding": null,
            "right": null,
            "top": null,
            "visibility": null,
            "width": "20px"
          }
        },
        "47ec9f0606bf49dc9c4d5cc47367360c": {
          "model_module": "@jupyter-widgets/controls",
          "model_name": "ProgressStyleModel",
          "model_module_version": "1.5.0",
          "state": {
            "_model_module": "@jupyter-widgets/controls",
            "_model_module_version": "1.5.0",
            "_model_name": "ProgressStyleModel",
            "_view_count": null,
            "_view_module": "@jupyter-widgets/base",
            "_view_module_version": "1.2.0",
            "_view_name": "StyleView",
            "bar_color": null,
            "description_width": ""
          }
        },
        "d92fda9032614ec0b86a08789bd8ccf9": {
          "model_module": "@jupyter-widgets/base",
          "model_name": "LayoutModel",
          "model_module_version": "1.2.0",
          "state": {
            "_model_module": "@jupyter-widgets/base",
            "_model_module_version": "1.2.0",
            "_model_name": "LayoutModel",
            "_view_count": null,
            "_view_module": "@jupyter-widgets/base",
            "_view_module_version": "1.2.0",
            "_view_name": "LayoutView",
            "align_content": null,
            "align_items": null,
            "align_self": null,
            "border": null,
            "bottom": null,
            "display": null,
            "flex": null,
            "flex_flow": null,
            "grid_area": null,
            "grid_auto_columns": null,
            "grid_auto_flow": null,
            "grid_auto_rows": null,
            "grid_column": null,
            "grid_gap": null,
            "grid_row": null,
            "grid_template_areas": null,
            "grid_template_columns": null,
            "grid_template_rows": null,
            "height": null,
            "justify_content": null,
            "justify_items": null,
            "left": null,
            "margin": null,
            "max_height": null,
            "max_width": null,
            "min_height": null,
            "min_width": null,
            "object_fit": null,
            "object_position": null,
            "order": null,
            "overflow": null,
            "overflow_x": null,
            "overflow_y": null,
            "padding": null,
            "right": null,
            "top": null,
            "visibility": null,
            "width": null
          }
        },
        "fb5512d25b4749e3853f27a4e51cb8ad": {
          "model_module": "@jupyter-widgets/controls",
          "model_name": "DescriptionStyleModel",
          "model_module_version": "1.5.0",
          "state": {
            "_model_module": "@jupyter-widgets/controls",
            "_model_module_version": "1.5.0",
            "_model_name": "DescriptionStyleModel",
            "_view_count": null,
            "_view_module": "@jupyter-widgets/base",
            "_view_module_version": "1.2.0",
            "_view_name": "StyleView",
            "description_width": ""
          }
        },
        "0e7e2e69ffc44bc791f4149c29294912": {
          "model_module": "@jupyter-widgets/controls",
          "model_name": "HBoxModel",
          "model_module_version": "1.5.0",
          "state": {
            "_dom_classes": [],
            "_model_module": "@jupyter-widgets/controls",
            "_model_module_version": "1.5.0",
            "_model_name": "HBoxModel",
            "_view_count": null,
            "_view_module": "@jupyter-widgets/controls",
            "_view_module_version": "1.5.0",
            "_view_name": "HBoxView",
            "box_style": "",
            "children": [
              "IPY_MODEL_d900a389a7fd4a03ad70f27fd5b70dfe",
              "IPY_MODEL_d3ca87d1cfdd40e580267535f5240524",
              "IPY_MODEL_d623091133844ae6827eaea24c9a2ba2"
            ],
            "layout": "IPY_MODEL_8155aab7490140d290844fa57bf93991"
          }
        },
        "d900a389a7fd4a03ad70f27fd5b70dfe": {
          "model_module": "@jupyter-widgets/controls",
          "model_name": "HTMLModel",
          "model_module_version": "1.5.0",
          "state": {
            "_dom_classes": [],
            "_model_module": "@jupyter-widgets/controls",
            "_model_module_version": "1.5.0",
            "_model_name": "HTMLModel",
            "_view_count": null,
            "_view_module": "@jupyter-widgets/controls",
            "_view_module_version": "1.5.0",
            "_view_name": "HTMLView",
            "description": "",
            "description_tooltip": null,
            "layout": "IPY_MODEL_d2c526f393f4465ba12eccc7b6d8837c",
            "placeholder": "​",
            "style": "IPY_MODEL_114f0a1b34584f838ce51efab74df91e",
            "value": "Map: 100%"
          }
        },
        "d3ca87d1cfdd40e580267535f5240524": {
          "model_module": "@jupyter-widgets/controls",
          "model_name": "FloatProgressModel",
          "model_module_version": "1.5.0",
          "state": {
            "_dom_classes": [],
            "_model_module": "@jupyter-widgets/controls",
            "_model_module_version": "1.5.0",
            "_model_name": "FloatProgressModel",
            "_view_count": null,
            "_view_module": "@jupyter-widgets/controls",
            "_view_module_version": "1.5.0",
            "_view_name": "ProgressView",
            "bar_style": "success",
            "description": "",
            "description_tooltip": null,
            "layout": "IPY_MODEL_697d0d5549b140bca37239c523bf1dbf",
            "max": 6,
            "min": 0,
            "orientation": "horizontal",
            "style": "IPY_MODEL_556d704781944831b22463ae85ec72c7",
            "value": 6
          }
        },
        "d623091133844ae6827eaea24c9a2ba2": {
          "model_module": "@jupyter-widgets/controls",
          "model_name": "HTMLModel",
          "model_module_version": "1.5.0",
          "state": {
            "_dom_classes": [],
            "_model_module": "@jupyter-widgets/controls",
            "_model_module_version": "1.5.0",
            "_model_name": "HTMLModel",
            "_view_count": null,
            "_view_module": "@jupyter-widgets/controls",
            "_view_module_version": "1.5.0",
            "_view_name": "HTMLView",
            "description": "",
            "description_tooltip": null,
            "layout": "IPY_MODEL_32011e4b275c48dbbaf5c9c498b8271d",
            "placeholder": "​",
            "style": "IPY_MODEL_9b62428f1f164ab2a7df0730dce77b64",
            "value": " 6/6 [00:05&lt;00:00,  1.01 examples/s]"
          }
        },
        "8155aab7490140d290844fa57bf93991": {
          "model_module": "@jupyter-widgets/base",
          "model_name": "LayoutModel",
          "model_module_version": "1.2.0",
          "state": {
            "_model_module": "@jupyter-widgets/base",
            "_model_module_version": "1.2.0",
            "_model_name": "LayoutModel",
            "_view_count": null,
            "_view_module": "@jupyter-widgets/base",
            "_view_module_version": "1.2.0",
            "_view_name": "LayoutView",
            "align_content": null,
            "align_items": null,
            "align_self": null,
            "border": null,
            "bottom": null,
            "display": null,
            "flex": null,
            "flex_flow": null,
            "grid_area": null,
            "grid_auto_columns": null,
            "grid_auto_flow": null,
            "grid_auto_rows": null,
            "grid_column": null,
            "grid_gap": null,
            "grid_row": null,
            "grid_template_areas": null,
            "grid_template_columns": null,
            "grid_template_rows": null,
            "height": null,
            "justify_content": null,
            "justify_items": null,
            "left": null,
            "margin": null,
            "max_height": null,
            "max_width": null,
            "min_height": null,
            "min_width": null,
            "object_fit": null,
            "object_position": null,
            "order": null,
            "overflow": null,
            "overflow_x": null,
            "overflow_y": null,
            "padding": null,
            "right": null,
            "top": null,
            "visibility": null,
            "width": null
          }
        },
        "d2c526f393f4465ba12eccc7b6d8837c": {
          "model_module": "@jupyter-widgets/base",
          "model_name": "LayoutModel",
          "model_module_version": "1.2.0",
          "state": {
            "_model_module": "@jupyter-widgets/base",
            "_model_module_version": "1.2.0",
            "_model_name": "LayoutModel",
            "_view_count": null,
            "_view_module": "@jupyter-widgets/base",
            "_view_module_version": "1.2.0",
            "_view_name": "LayoutView",
            "align_content": null,
            "align_items": null,
            "align_self": null,
            "border": null,
            "bottom": null,
            "display": null,
            "flex": null,
            "flex_flow": null,
            "grid_area": null,
            "grid_auto_columns": null,
            "grid_auto_flow": null,
            "grid_auto_rows": null,
            "grid_column": null,
            "grid_gap": null,
            "grid_row": null,
            "grid_template_areas": null,
            "grid_template_columns": null,
            "grid_template_rows": null,
            "height": null,
            "justify_content": null,
            "justify_items": null,
            "left": null,
            "margin": null,
            "max_height": null,
            "max_width": null,
            "min_height": null,
            "min_width": null,
            "object_fit": null,
            "object_position": null,
            "order": null,
            "overflow": null,
            "overflow_x": null,
            "overflow_y": null,
            "padding": null,
            "right": null,
            "top": null,
            "visibility": null,
            "width": null
          }
        },
        "114f0a1b34584f838ce51efab74df91e": {
          "model_module": "@jupyter-widgets/controls",
          "model_name": "DescriptionStyleModel",
          "model_module_version": "1.5.0",
          "state": {
            "_model_module": "@jupyter-widgets/controls",
            "_model_module_version": "1.5.0",
            "_model_name": "DescriptionStyleModel",
            "_view_count": null,
            "_view_module": "@jupyter-widgets/base",
            "_view_module_version": "1.2.0",
            "_view_name": "StyleView",
            "description_width": ""
          }
        },
        "697d0d5549b140bca37239c523bf1dbf": {
          "model_module": "@jupyter-widgets/base",
          "model_name": "LayoutModel",
          "model_module_version": "1.2.0",
          "state": {
            "_model_module": "@jupyter-widgets/base",
            "_model_module_version": "1.2.0",
            "_model_name": "LayoutModel",
            "_view_count": null,
            "_view_module": "@jupyter-widgets/base",
            "_view_module_version": "1.2.0",
            "_view_name": "LayoutView",
            "align_content": null,
            "align_items": null,
            "align_self": null,
            "border": null,
            "bottom": null,
            "display": null,
            "flex": null,
            "flex_flow": null,
            "grid_area": null,
            "grid_auto_columns": null,
            "grid_auto_flow": null,
            "grid_auto_rows": null,
            "grid_column": null,
            "grid_gap": null,
            "grid_row": null,
            "grid_template_areas": null,
            "grid_template_columns": null,
            "grid_template_rows": null,
            "height": null,
            "justify_content": null,
            "justify_items": null,
            "left": null,
            "margin": null,
            "max_height": null,
            "max_width": null,
            "min_height": null,
            "min_width": null,
            "object_fit": null,
            "object_position": null,
            "order": null,
            "overflow": null,
            "overflow_x": null,
            "overflow_y": null,
            "padding": null,
            "right": null,
            "top": null,
            "visibility": null,
            "width": null
          }
        },
        "556d704781944831b22463ae85ec72c7": {
          "model_module": "@jupyter-widgets/controls",
          "model_name": "ProgressStyleModel",
          "model_module_version": "1.5.0",
          "state": {
            "_model_module": "@jupyter-widgets/controls",
            "_model_module_version": "1.5.0",
            "_model_name": "ProgressStyleModel",
            "_view_count": null,
            "_view_module": "@jupyter-widgets/base",
            "_view_module_version": "1.2.0",
            "_view_name": "StyleView",
            "bar_color": null,
            "description_width": ""
          }
        },
        "32011e4b275c48dbbaf5c9c498b8271d": {
          "model_module": "@jupyter-widgets/base",
          "model_name": "LayoutModel",
          "model_module_version": "1.2.0",
          "state": {
            "_model_module": "@jupyter-widgets/base",
            "_model_module_version": "1.2.0",
            "_model_name": "LayoutModel",
            "_view_count": null,
            "_view_module": "@jupyter-widgets/base",
            "_view_module_version": "1.2.0",
            "_view_name": "LayoutView",
            "align_content": null,
            "align_items": null,
            "align_self": null,
            "border": null,
            "bottom": null,
            "display": null,
            "flex": null,
            "flex_flow": null,
            "grid_area": null,
            "grid_auto_columns": null,
            "grid_auto_flow": null,
            "grid_auto_rows": null,
            "grid_column": null,
            "grid_gap": null,
            "grid_row": null,
            "grid_template_areas": null,
            "grid_template_columns": null,
            "grid_template_rows": null,
            "height": null,
            "justify_content": null,
            "justify_items": null,
            "left": null,
            "margin": null,
            "max_height": null,
            "max_width": null,
            "min_height": null,
            "min_width": null,
            "object_fit": null,
            "object_position": null,
            "order": null,
            "overflow": null,
            "overflow_x": null,
            "overflow_y": null,
            "padding": null,
            "right": null,
            "top": null,
            "visibility": null,
            "width": null
          }
        },
        "9b62428f1f164ab2a7df0730dce77b64": {
          "model_module": "@jupyter-widgets/controls",
          "model_name": "DescriptionStyleModel",
          "model_module_version": "1.5.0",
          "state": {
            "_model_module": "@jupyter-widgets/controls",
            "_model_module_version": "1.5.0",
            "_model_name": "DescriptionStyleModel",
            "_view_count": null,
            "_view_module": "@jupyter-widgets/base",
            "_view_module_version": "1.2.0",
            "_view_name": "StyleView",
            "description_width": ""
          }
        },
        "a71b54f25bf84920a81a261e3a228265": {
          "model_module": "@jupyter-widgets/controls",
          "model_name": "HBoxModel",
          "model_module_version": "1.5.0",
          "state": {
            "_dom_classes": [],
            "_model_module": "@jupyter-widgets/controls",
            "_model_module_version": "1.5.0",
            "_model_name": "HBoxModel",
            "_view_count": null,
            "_view_module": "@jupyter-widgets/controls",
            "_view_module_version": "1.5.0",
            "_view_name": "HBoxView",
            "box_style": "",
            "children": [
              "IPY_MODEL_7a1955f43d5f476c890e3018fd911cdc",
              "IPY_MODEL_7be18ba8870f45babd4cdcdf209892f9",
              "IPY_MODEL_2200b8ab00a84d93b90014b33b8f79b3"
            ],
            "layout": "IPY_MODEL_d020aa332a7a4c1d93cc06ee9da5f70e"
          }
        },
        "7a1955f43d5f476c890e3018fd911cdc": {
          "model_module": "@jupyter-widgets/controls",
          "model_name": "HTMLModel",
          "model_module_version": "1.5.0",
          "state": {
            "_dom_classes": [],
            "_model_module": "@jupyter-widgets/controls",
            "_model_module_version": "1.5.0",
            "_model_name": "HTMLModel",
            "_view_count": null,
            "_view_module": "@jupyter-widgets/controls",
            "_view_module_version": "1.5.0",
            "_view_name": "HTMLView",
            "description": "",
            "description_tooltip": null,
            "layout": "IPY_MODEL_9048eceab83e432685b35289272e8851",
            "placeholder": "​",
            "style": "IPY_MODEL_d2861006502d48989ccaf77579b6abcd",
            "value": "Map: 100%"
          }
        },
        "7be18ba8870f45babd4cdcdf209892f9": {
          "model_module": "@jupyter-widgets/controls",
          "model_name": "FloatProgressModel",
          "model_module_version": "1.5.0",
          "state": {
            "_dom_classes": [],
            "_model_module": "@jupyter-widgets/controls",
            "_model_module_version": "1.5.0",
            "_model_name": "FloatProgressModel",
            "_view_count": null,
            "_view_module": "@jupyter-widgets/controls",
            "_view_module_version": "1.5.0",
            "_view_name": "ProgressView",
            "bar_style": "success",
            "description": "",
            "description_tooltip": null,
            "layout": "IPY_MODEL_468541a3b3aa4b26bd8f5b8f6eafeae5",
            "max": 6,
            "min": 0,
            "orientation": "horizontal",
            "style": "IPY_MODEL_57fa8770b2e44e2bad82277fa6ef9c97",
            "value": 6
          }
        },
        "2200b8ab00a84d93b90014b33b8f79b3": {
          "model_module": "@jupyter-widgets/controls",
          "model_name": "HTMLModel",
          "model_module_version": "1.5.0",
          "state": {
            "_dom_classes": [],
            "_model_module": "@jupyter-widgets/controls",
            "_model_module_version": "1.5.0",
            "_model_name": "HTMLModel",
            "_view_count": null,
            "_view_module": "@jupyter-widgets/controls",
            "_view_module_version": "1.5.0",
            "_view_name": "HTMLView",
            "description": "",
            "description_tooltip": null,
            "layout": "IPY_MODEL_d7e9534311eb441cafb2a84cfa555511",
            "placeholder": "​",
            "style": "IPY_MODEL_58c44df69f1f4bee9cb0ec0f9d9fa962",
            "value": " 6/6 [00:01&lt;00:00,  3.15 examples/s]"
          }
        },
        "d020aa332a7a4c1d93cc06ee9da5f70e": {
          "model_module": "@jupyter-widgets/base",
          "model_name": "LayoutModel",
          "model_module_version": "1.2.0",
          "state": {
            "_model_module": "@jupyter-widgets/base",
            "_model_module_version": "1.2.0",
            "_model_name": "LayoutModel",
            "_view_count": null,
            "_view_module": "@jupyter-widgets/base",
            "_view_module_version": "1.2.0",
            "_view_name": "LayoutView",
            "align_content": null,
            "align_items": null,
            "align_self": null,
            "border": null,
            "bottom": null,
            "display": null,
            "flex": null,
            "flex_flow": null,
            "grid_area": null,
            "grid_auto_columns": null,
            "grid_auto_flow": null,
            "grid_auto_rows": null,
            "grid_column": null,
            "grid_gap": null,
            "grid_row": null,
            "grid_template_areas": null,
            "grid_template_columns": null,
            "grid_template_rows": null,
            "height": null,
            "justify_content": null,
            "justify_items": null,
            "left": null,
            "margin": null,
            "max_height": null,
            "max_width": null,
            "min_height": null,
            "min_width": null,
            "object_fit": null,
            "object_position": null,
            "order": null,
            "overflow": null,
            "overflow_x": null,
            "overflow_y": null,
            "padding": null,
            "right": null,
            "top": null,
            "visibility": null,
            "width": null
          }
        },
        "9048eceab83e432685b35289272e8851": {
          "model_module": "@jupyter-widgets/base",
          "model_name": "LayoutModel",
          "model_module_version": "1.2.0",
          "state": {
            "_model_module": "@jupyter-widgets/base",
            "_model_module_version": "1.2.0",
            "_model_name": "LayoutModel",
            "_view_count": null,
            "_view_module": "@jupyter-widgets/base",
            "_view_module_version": "1.2.0",
            "_view_name": "LayoutView",
            "align_content": null,
            "align_items": null,
            "align_self": null,
            "border": null,
            "bottom": null,
            "display": null,
            "flex": null,
            "flex_flow": null,
            "grid_area": null,
            "grid_auto_columns": null,
            "grid_auto_flow": null,
            "grid_auto_rows": null,
            "grid_column": null,
            "grid_gap": null,
            "grid_row": null,
            "grid_template_areas": null,
            "grid_template_columns": null,
            "grid_template_rows": null,
            "height": null,
            "justify_content": null,
            "justify_items": null,
            "left": null,
            "margin": null,
            "max_height": null,
            "max_width": null,
            "min_height": null,
            "min_width": null,
            "object_fit": null,
            "object_position": null,
            "order": null,
            "overflow": null,
            "overflow_x": null,
            "overflow_y": null,
            "padding": null,
            "right": null,
            "top": null,
            "visibility": null,
            "width": null
          }
        },
        "d2861006502d48989ccaf77579b6abcd": {
          "model_module": "@jupyter-widgets/controls",
          "model_name": "DescriptionStyleModel",
          "model_module_version": "1.5.0",
          "state": {
            "_model_module": "@jupyter-widgets/controls",
            "_model_module_version": "1.5.0",
            "_model_name": "DescriptionStyleModel",
            "_view_count": null,
            "_view_module": "@jupyter-widgets/base",
            "_view_module_version": "1.2.0",
            "_view_name": "StyleView",
            "description_width": ""
          }
        },
        "468541a3b3aa4b26bd8f5b8f6eafeae5": {
          "model_module": "@jupyter-widgets/base",
          "model_name": "LayoutModel",
          "model_module_version": "1.2.0",
          "state": {
            "_model_module": "@jupyter-widgets/base",
            "_model_module_version": "1.2.0",
            "_model_name": "LayoutModel",
            "_view_count": null,
            "_view_module": "@jupyter-widgets/base",
            "_view_module_version": "1.2.0",
            "_view_name": "LayoutView",
            "align_content": null,
            "align_items": null,
            "align_self": null,
            "border": null,
            "bottom": null,
            "display": null,
            "flex": null,
            "flex_flow": null,
            "grid_area": null,
            "grid_auto_columns": null,
            "grid_auto_flow": null,
            "grid_auto_rows": null,
            "grid_column": null,
            "grid_gap": null,
            "grid_row": null,
            "grid_template_areas": null,
            "grid_template_columns": null,
            "grid_template_rows": null,
            "height": null,
            "justify_content": null,
            "justify_items": null,
            "left": null,
            "margin": null,
            "max_height": null,
            "max_width": null,
            "min_height": null,
            "min_width": null,
            "object_fit": null,
            "object_position": null,
            "order": null,
            "overflow": null,
            "overflow_x": null,
            "overflow_y": null,
            "padding": null,
            "right": null,
            "top": null,
            "visibility": null,
            "width": null
          }
        },
        "57fa8770b2e44e2bad82277fa6ef9c97": {
          "model_module": "@jupyter-widgets/controls",
          "model_name": "ProgressStyleModel",
          "model_module_version": "1.5.0",
          "state": {
            "_model_module": "@jupyter-widgets/controls",
            "_model_module_version": "1.5.0",
            "_model_name": "ProgressStyleModel",
            "_view_count": null,
            "_view_module": "@jupyter-widgets/base",
            "_view_module_version": "1.2.0",
            "_view_name": "StyleView",
            "bar_color": null,
            "description_width": ""
          }
        },
        "d7e9534311eb441cafb2a84cfa555511": {
          "model_module": "@jupyter-widgets/base",
          "model_name": "LayoutModel",
          "model_module_version": "1.2.0",
          "state": {
            "_model_module": "@jupyter-widgets/base",
            "_model_module_version": "1.2.0",
            "_model_name": "LayoutModel",
            "_view_count": null,
            "_view_module": "@jupyter-widgets/base",
            "_view_module_version": "1.2.0",
            "_view_name": "LayoutView",
            "align_content": null,
            "align_items": null,
            "align_self": null,
            "border": null,
            "bottom": null,
            "display": null,
            "flex": null,
            "flex_flow": null,
            "grid_area": null,
            "grid_auto_columns": null,
            "grid_auto_flow": null,
            "grid_auto_rows": null,
            "grid_column": null,
            "grid_gap": null,
            "grid_row": null,
            "grid_template_areas": null,
            "grid_template_columns": null,
            "grid_template_rows": null,
            "height": null,
            "justify_content": null,
            "justify_items": null,
            "left": null,
            "margin": null,
            "max_height": null,
            "max_width": null,
            "min_height": null,
            "min_width": null,
            "object_fit": null,
            "object_position": null,
            "order": null,
            "overflow": null,
            "overflow_x": null,
            "overflow_y": null,
            "padding": null,
            "right": null,
            "top": null,
            "visibility": null,
            "width": null
          }
        },
        "58c44df69f1f4bee9cb0ec0f9d9fa962": {
          "model_module": "@jupyter-widgets/controls",
          "model_name": "DescriptionStyleModel",
          "model_module_version": "1.5.0",
          "state": {
            "_model_module": "@jupyter-widgets/controls",
            "_model_module_version": "1.5.0",
            "_model_name": "DescriptionStyleModel",
            "_view_count": null,
            "_view_module": "@jupyter-widgets/base",
            "_view_module_version": "1.2.0",
            "_view_name": "StyleView",
            "description_width": ""
          }
        },
        "54bca68cc6d141ccbe8fc29325e00394": {
          "model_module": "@jupyter-widgets/controls",
          "model_name": "HBoxModel",
          "model_module_version": "1.5.0",
          "state": {
            "_dom_classes": [],
            "_model_module": "@jupyter-widgets/controls",
            "_model_module_version": "1.5.0",
            "_model_name": "HBoxModel",
            "_view_count": null,
            "_view_module": "@jupyter-widgets/controls",
            "_view_module_version": "1.5.0",
            "_view_name": "HBoxView",
            "box_style": "",
            "children": [
              "IPY_MODEL_96a0776a09914b91af00872a2db089db",
              "IPY_MODEL_efbec0cae05146a18492ec009f4f3513",
              "IPY_MODEL_041bf4e8c18c44489207aae7e0527d02"
            ],
            "layout": "IPY_MODEL_fe515ba93c194e6783120eee3d365e06"
          }
        },
        "96a0776a09914b91af00872a2db089db": {
          "model_module": "@jupyter-widgets/controls",
          "model_name": "HTMLModel",
          "model_module_version": "1.5.0",
          "state": {
            "_dom_classes": [],
            "_model_module": "@jupyter-widgets/controls",
            "_model_module_version": "1.5.0",
            "_model_name": "HTMLModel",
            "_view_count": null,
            "_view_module": "@jupyter-widgets/controls",
            "_view_module_version": "1.5.0",
            "_view_name": "HTMLView",
            "description": "",
            "description_tooltip": null,
            "layout": "IPY_MODEL_2ae26fdfe4d84639bda7a9599ae42dfc",
            "placeholder": "​",
            "style": "IPY_MODEL_8fb5ded7659a403e90e5ee12d8c6215a",
            "value": "sentencepiece.bpe.model: 100%"
          }
        },
        "efbec0cae05146a18492ec009f4f3513": {
          "model_module": "@jupyter-widgets/controls",
          "model_name": "FloatProgressModel",
          "model_module_version": "1.5.0",
          "state": {
            "_dom_classes": [],
            "_model_module": "@jupyter-widgets/controls",
            "_model_module_version": "1.5.0",
            "_model_name": "FloatProgressModel",
            "_view_count": null,
            "_view_module": "@jupyter-widgets/controls",
            "_view_module_version": "1.5.0",
            "_view_name": "ProgressView",
            "bar_style": "success",
            "description": "",
            "description_tooltip": null,
            "layout": "IPY_MODEL_bf71565238f24595a66f6a51d2e9ab34",
            "max": 1296245,
            "min": 0,
            "orientation": "horizontal",
            "style": "IPY_MODEL_2bfb193ae4884ef8a0d2f018b1c6cd14",
            "value": 1296245
          }
        },
        "041bf4e8c18c44489207aae7e0527d02": {
          "model_module": "@jupyter-widgets/controls",
          "model_name": "HTMLModel",
          "model_module_version": "1.5.0",
          "state": {
            "_dom_classes": [],
            "_model_module": "@jupyter-widgets/controls",
            "_model_module_version": "1.5.0",
            "_model_name": "HTMLModel",
            "_view_count": null,
            "_view_module": "@jupyter-widgets/controls",
            "_view_module_version": "1.5.0",
            "_view_name": "HTMLView",
            "description": "",
            "description_tooltip": null,
            "layout": "IPY_MODEL_bd3bdd54ae7948b397ab4ced635e7ad9",
            "placeholder": "​",
            "style": "IPY_MODEL_cf24498b93d34e2ea43989ca448e9c1e",
            "value": " 1.30M/1.30M [00:00&lt;00:00, 1.84MB/s]"
          }
        },
        "fe515ba93c194e6783120eee3d365e06": {
          "model_module": "@jupyter-widgets/base",
          "model_name": "LayoutModel",
          "model_module_version": "1.2.0",
          "state": {
            "_model_module": "@jupyter-widgets/base",
            "_model_module_version": "1.2.0",
            "_model_name": "LayoutModel",
            "_view_count": null,
            "_view_module": "@jupyter-widgets/base",
            "_view_module_version": "1.2.0",
            "_view_name": "LayoutView",
            "align_content": null,
            "align_items": null,
            "align_self": null,
            "border": null,
            "bottom": null,
            "display": null,
            "flex": null,
            "flex_flow": null,
            "grid_area": null,
            "grid_auto_columns": null,
            "grid_auto_flow": null,
            "grid_auto_rows": null,
            "grid_column": null,
            "grid_gap": null,
            "grid_row": null,
            "grid_template_areas": null,
            "grid_template_columns": null,
            "grid_template_rows": null,
            "height": null,
            "justify_content": null,
            "justify_items": null,
            "left": null,
            "margin": null,
            "max_height": null,
            "max_width": null,
            "min_height": null,
            "min_width": null,
            "object_fit": null,
            "object_position": null,
            "order": null,
            "overflow": null,
            "overflow_x": null,
            "overflow_y": null,
            "padding": null,
            "right": null,
            "top": null,
            "visibility": null,
            "width": null
          }
        },
        "2ae26fdfe4d84639bda7a9599ae42dfc": {
          "model_module": "@jupyter-widgets/base",
          "model_name": "LayoutModel",
          "model_module_version": "1.2.0",
          "state": {
            "_model_module": "@jupyter-widgets/base",
            "_model_module_version": "1.2.0",
            "_model_name": "LayoutModel",
            "_view_count": null,
            "_view_module": "@jupyter-widgets/base",
            "_view_module_version": "1.2.0",
            "_view_name": "LayoutView",
            "align_content": null,
            "align_items": null,
            "align_self": null,
            "border": null,
            "bottom": null,
            "display": null,
            "flex": null,
            "flex_flow": null,
            "grid_area": null,
            "grid_auto_columns": null,
            "grid_auto_flow": null,
            "grid_auto_rows": null,
            "grid_column": null,
            "grid_gap": null,
            "grid_row": null,
            "grid_template_areas": null,
            "grid_template_columns": null,
            "grid_template_rows": null,
            "height": null,
            "justify_content": null,
            "justify_items": null,
            "left": null,
            "margin": null,
            "max_height": null,
            "max_width": null,
            "min_height": null,
            "min_width": null,
            "object_fit": null,
            "object_position": null,
            "order": null,
            "overflow": null,
            "overflow_x": null,
            "overflow_y": null,
            "padding": null,
            "right": null,
            "top": null,
            "visibility": null,
            "width": null
          }
        },
        "8fb5ded7659a403e90e5ee12d8c6215a": {
          "model_module": "@jupyter-widgets/controls",
          "model_name": "DescriptionStyleModel",
          "model_module_version": "1.5.0",
          "state": {
            "_model_module": "@jupyter-widgets/controls",
            "_model_module_version": "1.5.0",
            "_model_name": "DescriptionStyleModel",
            "_view_count": null,
            "_view_module": "@jupyter-widgets/base",
            "_view_module_version": "1.2.0",
            "_view_name": "StyleView",
            "description_width": ""
          }
        },
        "bf71565238f24595a66f6a51d2e9ab34": {
          "model_module": "@jupyter-widgets/base",
          "model_name": "LayoutModel",
          "model_module_version": "1.2.0",
          "state": {
            "_model_module": "@jupyter-widgets/base",
            "_model_module_version": "1.2.0",
            "_model_name": "LayoutModel",
            "_view_count": null,
            "_view_module": "@jupyter-widgets/base",
            "_view_module_version": "1.2.0",
            "_view_name": "LayoutView",
            "align_content": null,
            "align_items": null,
            "align_self": null,
            "border": null,
            "bottom": null,
            "display": null,
            "flex": null,
            "flex_flow": null,
            "grid_area": null,
            "grid_auto_columns": null,
            "grid_auto_flow": null,
            "grid_auto_rows": null,
            "grid_column": null,
            "grid_gap": null,
            "grid_row": null,
            "grid_template_areas": null,
            "grid_template_columns": null,
            "grid_template_rows": null,
            "height": null,
            "justify_content": null,
            "justify_items": null,
            "left": null,
            "margin": null,
            "max_height": null,
            "max_width": null,
            "min_height": null,
            "min_width": null,
            "object_fit": null,
            "object_position": null,
            "order": null,
            "overflow": null,
            "overflow_x": null,
            "overflow_y": null,
            "padding": null,
            "right": null,
            "top": null,
            "visibility": null,
            "width": null
          }
        },
        "2bfb193ae4884ef8a0d2f018b1c6cd14": {
          "model_module": "@jupyter-widgets/controls",
          "model_name": "ProgressStyleModel",
          "model_module_version": "1.5.0",
          "state": {
            "_model_module": "@jupyter-widgets/controls",
            "_model_module_version": "1.5.0",
            "_model_name": "ProgressStyleModel",
            "_view_count": null,
            "_view_module": "@jupyter-widgets/base",
            "_view_module_version": "1.2.0",
            "_view_name": "StyleView",
            "bar_color": null,
            "description_width": ""
          }
        },
        "bd3bdd54ae7948b397ab4ced635e7ad9": {
          "model_module": "@jupyter-widgets/base",
          "model_name": "LayoutModel",
          "model_module_version": "1.2.0",
          "state": {
            "_model_module": "@jupyter-widgets/base",
            "_model_module_version": "1.2.0",
            "_model_name": "LayoutModel",
            "_view_count": null,
            "_view_module": "@jupyter-widgets/base",
            "_view_module_version": "1.2.0",
            "_view_name": "LayoutView",
            "align_content": null,
            "align_items": null,
            "align_self": null,
            "border": null,
            "bottom": null,
            "display": null,
            "flex": null,
            "flex_flow": null,
            "grid_area": null,
            "grid_auto_columns": null,
            "grid_auto_flow": null,
            "grid_auto_rows": null,
            "grid_column": null,
            "grid_gap": null,
            "grid_row": null,
            "grid_template_areas": null,
            "grid_template_columns": null,
            "grid_template_rows": null,
            "height": null,
            "justify_content": null,
            "justify_items": null,
            "left": null,
            "margin": null,
            "max_height": null,
            "max_width": null,
            "min_height": null,
            "min_width": null,
            "object_fit": null,
            "object_position": null,
            "order": null,
            "overflow": null,
            "overflow_x": null,
            "overflow_y": null,
            "padding": null,
            "right": null,
            "top": null,
            "visibility": null,
            "width": null
          }
        },
        "cf24498b93d34e2ea43989ca448e9c1e": {
          "model_module": "@jupyter-widgets/controls",
          "model_name": "DescriptionStyleModel",
          "model_module_version": "1.5.0",
          "state": {
            "_model_module": "@jupyter-widgets/controls",
            "_model_module_version": "1.5.0",
            "_model_name": "DescriptionStyleModel",
            "_view_count": null,
            "_view_module": "@jupyter-widgets/base",
            "_view_module_version": "1.2.0",
            "_view_name": "StyleView",
            "description_width": ""
          }
        }
      }
    }
  },
  "cells": [
    {
      "cell_type": "markdown",
      "metadata": {
        "id": "view-in-github",
        "colab_type": "text"
      },
      "source": [
        "<a href=\"https://colab.research.google.com/github/ashoka-swiftclaims/Donut/blob/main/Fine_tuning_Donut.ipynb\" target=\"_parent\"><img src=\"https://colab.research.google.com/assets/colab-badge.svg\" alt=\"Open In Colab\"/></a>"
      ]
    },
    {
      "cell_type": "code",
      "execution_count": 1,
      "metadata": {
        "colab": {
          "base_uri": "https://localhost:8080/"
        },
        "id": "i7ihK0Ax4bIT",
        "outputId": "3959c3b7-900a-41ff-a7c8-ed054cc9dd99"
      },
      "outputs": [
        {
          "output_type": "stream",
          "name": "stdout",
          "text": [
            "  Installing build dependencies ... \u001b[?25l\u001b[?25hdone\n",
            "  Getting requirements to build wheel ... \u001b[?25l\u001b[?25hdone\n",
            "  Preparing metadata (pyproject.toml) ... \u001b[?25l\u001b[?25hdone\n",
            "Reading package lists... Done\n",
            "Building dependency tree... Done\n",
            "Reading state information... Done\n",
            "git-lfs is already the newest version (3.0.2-1ubuntu0.2).\n",
            "0 upgraded, 0 newly installed, 0 to remove and 49 not upgraded.\n"
          ]
        }
      ],
      "source": [
        "!pip install -q git+https://github.com/huggingface/transformers.git\n",
        "# !pip install -q \"transformers>=4.22.0\" # comment in when version is released\n",
        "!pip install -q datasets sentencepiece tensorboard\n",
        "# install git-fls for pushing model and logs to the hugging face hub\n",
        "!sudo apt-get install git-lfs --yes"
      ]
    },
    {
      "cell_type": "code",
      "source": [
        "from huggingface_hub import notebook_login\n",
        "\n",
        "notebook_login()"
      ],
      "metadata": {
        "colab": {
          "base_uri": "https://localhost:8080/",
          "height": 331,
          "referenced_widgets": [
            "7738f4ef2b59491c80d606c46c55c13f",
            "486f2850c5634c0d89d9071a79634798",
            "c87598cf4ebf4b1e9beca7a8d1443d80",
            "6900b92898b94a2abd2909c1a308f99b",
            "d5aad130e98645f2b1fff63dc0a6361b",
            "04ebd61a9d094fc7bb996e7dff239d89",
            "d615dafd3c2a43c7b2339339a14d15b6",
            "ba1d0fbb3fb34e948e25933a979ffb2f",
            "71077ba3e082402b888d3a839ec513ca",
            "b30417d7bfa246499f46994f80b0e0b4",
            "182619ea81684282ac98341e00e687c5",
            "7ba1ff845e2d42d088decfb50896eb94",
            "588c606c99664f4082fdf9a75444adad",
            "9874a9a05e794511aeab584aa3893314",
            "2fb1736354ee434aad5bd20aead4d6cf",
            "3cc62bf6b921446c9fc69834f441d623",
            "dc202d0a4e904ab28d4e93bdc1e624af"
          ]
        },
        "id": "vc2I8zvo4qZU",
        "outputId": "f8c08fb3-38a2-477c-d1f6-0c569cc039f9"
      },
      "execution_count": 16,
      "outputs": [
        {
          "output_type": "display_data",
          "data": {
            "text/plain": [
              "VBox(children=(HTML(value='<center> <img\\nsrc=https://huggingface.co/front/assets/huggingface_logo-noborder.sv…"
            ],
            "application/vnd.jupyter.widget-view+json": {
              "version_major": 2,
              "version_minor": 0,
              "model_id": "7738f4ef2b59491c80d606c46c55c13f"
            }
          },
          "metadata": {}
        }
      ]
    },
    {
      "cell_type": "code",
      "source": [
        "%%bash\n",
        "# clone repository\n",
        "# git clone https://github.com/zzzDavid/ICDAR-2019-SROIE.git\n",
        "git clone https://github.com/ashoka-swiftclaims/Donut.git\n",
        "# copy data\n",
        "# cp -r ICDAR-2019-SROIE/data ./\n",
        "cp -r Donut/data ./\n",
        "# clean up\n",
        "# rm -rf ICDAR-2019-SROIE\n",
        "rm -rf Donut\n",
        "rm -rf data/box"
      ],
      "metadata": {
        "colab": {
          "base_uri": "https://localhost:8080/"
        },
        "id": "lkBBc4zD5arK",
        "outputId": "8902a7d2-1aa2-4a9a-b399-bc74edc5af54"
      },
      "execution_count": 3,
      "outputs": [
        {
          "output_type": "stream",
          "name": "stderr",
          "text": [
            "Cloning into 'Donut'...\n"
          ]
        }
      ]
    },
    {
      "cell_type": "code",
      "source": [
        "!ls -a data/img/\n",
        "!ls -a data/key/"
      ],
      "metadata": {
        "colab": {
          "base_uri": "https://localhost:8080/"
        },
        "id": "xoZQ7joUWqMc",
        "outputId": "fdb6e8e8-5d0e-44c4-9c94-9c06e96434e9"
      },
      "execution_count": 4,
      "outputs": [
        {
          "output_type": "stream",
          "name": "stdout",
          "text": [
            ".  ..  000.jpg\t001.jpg  002.jpg  003.jpg  004.jpg  005.jpg  metadata.jsonl\n",
            ".  ..  000.json  001.json  002.json  003.json  004.json  005.json\n"
          ]
        }
      ]
    },
    {
      "cell_type": "code",
      "source": [
        "import os\n",
        "import json\n",
        "from pathlib import Path\n",
        "import shutil\n",
        "\n",
        "# define paths\n",
        "base_path = Path(\"data\")\n",
        "metadata_path = base_path.joinpath(\"key\")\n",
        "image_path = base_path.joinpath(\"img\")\n",
        "# print(metadata_path)\n",
        "# print(image_path)\n",
        "# define metadata list\n",
        "metadata_list = []\n",
        "\n",
        "# parse metadata\n",
        "for file_name in metadata_path.glob(\"*.json\"):\n",
        "  with open(file_name, \"r\") as json_file:\n",
        "    # load json file\n",
        "    data = json.load(json_file)\n",
        "    print(data)\n",
        "    # create \"text\" column with json string\n",
        "    text = json.dumps(data)\n",
        "    print(text)\n",
        "    # add to metadata list if image exists\n",
        "    if image_path.joinpath(f\"{file_name.stem}.jpg\").is_file():\n",
        "      metadata_list.append({\"text\":text,\"file_name\":f\"{file_name.stem}.jpg\"})\n",
        "      print(metadata_list)\n",
        "    else:\n",
        "      print(f\"Image {file_name.stem}.jpg does not exist\")\n",
        "      # delete json file\n",
        "\n",
        "# write jsonline file\n",
        "with open(image_path.joinpath('metadata.jsonl'), 'w') as outfile:\n",
        "    for entry in metadata_list:\n",
        "        json.dump(entry, outfile)\n",
        "        outfile.write('\\n')\n",
        "\n",
        "# remove old meta data\n",
        "shutil.rmtree(metadata_path)"
      ],
      "metadata": {
        "colab": {
          "base_uri": "https://localhost:8080/"
        },
        "id": "4rf5Wp7J6ZD5",
        "outputId": "d4ebd898-ddf3-449d-fa05-efd4bfca25d1"
      },
      "execution_count": 5,
      "outputs": [
        {
          "output_type": "stream",
          "name": "stdout",
          "text": [
            "{'company': 'ABC HO TRADING', 'date': '09/01/2019', 'address': 'NO.2&4, JALAN HARMONI 3/2, TAMAN DESA HARMONI. 81100 JOHOR BAHRU JOHOR', 'total': '31.00'}\n",
            "{\"company\": \"ABC HO TRADING\", \"date\": \"09/01/2019\", \"address\": \"NO.2&4, JALAN HARMONI 3/2, TAMAN DESA HARMONI. 81100 JOHOR BAHRU JOHOR\", \"total\": \"31.00\"}\n",
            "[{'text': '{\"company\": \"ABC HO TRADING\", \"date\": \"09/01/2019\", \"address\": \"NO.2&4, JALAN HARMONI 3/2, TAMAN DESA HARMONI. 81100 JOHOR BAHRU JOHOR\", \"total\": \"31.00\"}', 'file_name': '005.jpg'}]\n",
            "{'company': 'MR D.I.Y. (M) SDN BHD', 'date': '18-11-18', 'address': 'LOT 1851-A & 1851-B, JALAN KPB 6, KAWASAN PERINDUSTRIAN BALAKONG, 43300 SERI KEMBANGAN, SELANGOR (TESCO PUTRA NILAI)', 'total': '30.90'}\n",
            "{\"company\": \"MR D.I.Y. (M) SDN BHD\", \"date\": \"18-11-18\", \"address\": \"LOT 1851-A & 1851-B, JALAN KPB 6, KAWASAN PERINDUSTRIAN BALAKONG, 43300 SERI KEMBANGAN, SELANGOR (TESCO PUTRA NILAI)\", \"total\": \"30.90\"}\n",
            "[{'text': '{\"company\": \"ABC HO TRADING\", \"date\": \"09/01/2019\", \"address\": \"NO.2&4, JALAN HARMONI 3/2, TAMAN DESA HARMONI. 81100 JOHOR BAHRU JOHOR\", \"total\": \"31.00\"}', 'file_name': '005.jpg'}, {'text': '{\"company\": \"MR D.I.Y. (M) SDN BHD\", \"date\": \"18-11-18\", \"address\": \"LOT 1851-A & 1851-B, JALAN KPB 6, KAWASAN PERINDUSTRIAN BALAKONG, 43300 SERI KEMBANGAN, SELANGOR (TESCO PUTRA NILAI)\", \"total\": \"30.90\"}', 'file_name': '004.jpg'}]\n",
            "{'soa_reference_no': '2017- 50916', 'hospital_name': 'DOMINGO CASANO HOSPITAL', 'hospital_address': '431 Real Street, Brgy 15, Dolores, Eastern Samar, Philippines', 'phone_number': '927-998-0932', 'name_of_patient': 'IRASGA, AVELINO JUANPIT', 'date_and_time_admitted': '11/9/2017 9:30 AM', 'patient_address': 'BRGY.1, CAN-AVID E. SAMAR', 'date_and_time_discharged': '11/13/2017 9:32 AM', 'first_case_rate': 'J18.92', 'diagnosises_and_icd_10_codes': '1. J18.92 Pneumonia, Moderate risk (C)', 'second_case_rate': '', 'surgical_procedures_and_rvs_codes_if_applicable': '', 'summary_of_fees': [{'particulars': 'HCI fees', 'actual_charges': '', 'vat_exempt': '', 'amount_of_discounts': {'senior_citizen_or_pwd': '', 'place_others': ''}, 'philhealth_benefits': {'first_case_rate_amount': '', 'second_case_rate_amount': ''}, 'out_of_pocket_of_patient': ''}, {'particulars': 'Room and Board 4.00 Day(s) @700.00', 'actual_charges': '2,800.00', 'vat_exempt': '0.00', 'amount_of_discounts': {'senior_citizen_or_pwd': '0.00', 'place_others': '1,600.00'}, 'philhealth_benefits': {'first_case_rate_amount': '10,500.00', 'second_case_rate_amount': '0.00'}, 'out_of_pocket_of_patient': '1,200.00'}, {'particulars': 'Drugs and Medicines', 'actual_charges': '15,762.00', 'vat_exempt': '0.00', 'amount_of_discounts': {'senior_citizen_or_pwd': '0.00', 'place_others': '7,212.00'}, 'philhealth_benefits': {'first_case_rate_amount': '10,500.00', 'second_case_rate_amount': '0.00'}, 'out_of_pocket_of_patient': '0.00'}, {'particulars': 'Laboratory & Diagnostics', 'actual_charges': '1,075.00', 'vat_exempt': '0.00', 'amount_of_discounts': {'senior_citizen_or_pwd': '0.00', 'place_others': '0.00'}, 'philhealth_benefits': {'first_case_rate_amount': '10,500.00', 'second_case_rate_amount': '0.00'}, 'out_of_pocket_of_patient': '0.00'}, {'particulars': 'Operating Room fee', 'actual_charges': '0.00', 'vat_exempt': '0.00', 'amount_of_discounts': {'senior_citizen_or_pwd': '0.00', 'place_others': '0.00'}, 'philhealth_benefits': {'first_case_rate_amount': '10,500.00', 'second_case_rate_amount': '0.00'}, 'out_of_pocket_of_patient': '0.00'}, {'particulars': 'Supplies', 'actual_charges': '875.00', 'vat_exempt': '0.00', 'amount_of_discounts': {'senior_citizen_or_pwd': '0.00', 'place_others': '0.00'}, 'philhealth_benefits': {'first_case_rate_amount': '10,500.00', 'second_case_rate_amount': '0.00'}, 'out_of_pocket_of_patient': '0.00'}, {'particulars': 'Others: pls. specify', 'actual_charges': '', 'vat_exempt': '', 'amount_of_discounts': {'senior_citizen_or_pwd': '', 'place_others': ''}, 'philhealth_benefits': {'first_case_rate_amount': '', 'second_case_rate_amount': ''}, 'out_of_pocket_of_patient': ''}, {'particulars': 'Subtotal', 'actual_charges': '20,512.00', 'vat_exempt': '0.00', 'amount_of_discounts': {'senior_citizen_or_pwd': '0.00', 'place_others': '8,812.00'}, 'philhealth_benefits': {'first_case_rate_amount': '10,500.00', 'second_case_rate_amount': '0.00'}, 'out_of_pocket_of_patient': '1,200.00'}, {'particulars': 'Professional fees', 'actual_charges': '', 'vat_exempt': '', 'amount_of_discounts': {'senior_citizen_or_pwd': '', 'place_others': ''}, 'philhealth_benefits': {'first_case_rate_amount': '', 'second_case_rate_amount': ''}, 'out_of_pocket_of_patient': ''}, {'particulars': 'PAULO, LYCEL PALAMINE', 'actual_charges': '4,500.00', 'vat_exempt': '0.00', 'amount_of_discounts': {'senior_citizen_or_pwd': '0.00', 'place_others': '0.00'}, 'philhealth_benefits': {'first_case_rate_amount': '4,500.00', 'second_case_rate_amount': '0.00'}, 'out_of_pocket_of_patient': '0.00'}, {'particulars': 'Subtotal', 'actual_charges': '4,500.00', 'vat_exempt': '0.00', 'amount_of_discounts': {'senior_citizen_or_pwd': '0.00', 'place_others': '0.00'}, 'philhealth_benefits': {'first_case_rate_amount': '4,500.00', 'second_case_rate_amount': '0.00'}, 'out_of_pocket_of_patient': '0.00'}, {'particulars': 'Total', 'actual_charges': '25,012.00', 'vat_exempt': '0.00', 'amount_of_discounts': {'senior_citizen_or_pwd': '0.00', 'place_others': '8,812.00'}, 'philhealth_benefits': {'first_case_rate_amount': '15,000.00', 'second_case_rate_amount': '0.00'}, 'out_of_pocket_of_patient': '1,200.00'}], 'payments': {'payments': '1,200.00', 'subtotal': '1,200.00', 'balance_due': '0.00'}, 'prepared_by': 'EGRANES FAMELA QUIDANGEN', 'conforme': 'bralno', 'date_signed': '11 - 13 - 17', 'relationship_to_member_of_authorized_representative': 'PATIONT', 'contact_no': 'NONE', 'notes': ['Fill out the form legibly.', 'The member or patient authorized representative should not sign a blank SOA.', 'Printed CODV of SOA or its equivalent should be free of charge.']}\n",
            "{\"soa_reference_no\": \"2017- 50916\", \"hospital_name\": \"DOMINGO CASANO HOSPITAL\", \"hospital_address\": \"431 Real Street, Brgy 15, Dolores, Eastern Samar, Philippines\", \"phone_number\": \"927-998-0932\", \"name_of_patient\": \"IRASGA, AVELINO JUANPIT\", \"date_and_time_admitted\": \"11/9/2017 9:30 AM\", \"patient_address\": \"BRGY.1, CAN-AVID E. SAMAR\", \"date_and_time_discharged\": \"11/13/2017 9:32 AM\", \"first_case_rate\": \"J18.92\", \"diagnosises_and_icd_10_codes\": \"1. J18.92 Pneumonia, Moderate risk (C)\", \"second_case_rate\": \"\", \"surgical_procedures_and_rvs_codes_if_applicable\": \"\", \"summary_of_fees\": [{\"particulars\": \"HCI fees\", \"actual_charges\": \"\", \"vat_exempt\": \"\", \"amount_of_discounts\": {\"senior_citizen_or_pwd\": \"\", \"place_others\": \"\"}, \"philhealth_benefits\": {\"first_case_rate_amount\": \"\", \"second_case_rate_amount\": \"\"}, \"out_of_pocket_of_patient\": \"\"}, {\"particulars\": \"Room and Board 4.00 Day(s) @700.00\", \"actual_charges\": \"2,800.00\", \"vat_exempt\": \"0.00\", \"amount_of_discounts\": {\"senior_citizen_or_pwd\": \"0.00\", \"place_others\": \"1,600.00\"}, \"philhealth_benefits\": {\"first_case_rate_amount\": \"10,500.00\", \"second_case_rate_amount\": \"0.00\"}, \"out_of_pocket_of_patient\": \"1,200.00\"}, {\"particulars\": \"Drugs and Medicines\", \"actual_charges\": \"15,762.00\", \"vat_exempt\": \"0.00\", \"amount_of_discounts\": {\"senior_citizen_or_pwd\": \"0.00\", \"place_others\": \"7,212.00\"}, \"philhealth_benefits\": {\"first_case_rate_amount\": \"10,500.00\", \"second_case_rate_amount\": \"0.00\"}, \"out_of_pocket_of_patient\": \"0.00\"}, {\"particulars\": \"Laboratory & Diagnostics\", \"actual_charges\": \"1,075.00\", \"vat_exempt\": \"0.00\", \"amount_of_discounts\": {\"senior_citizen_or_pwd\": \"0.00\", \"place_others\": \"0.00\"}, \"philhealth_benefits\": {\"first_case_rate_amount\": \"10,500.00\", \"second_case_rate_amount\": \"0.00\"}, \"out_of_pocket_of_patient\": \"0.00\"}, {\"particulars\": \"Operating Room fee\", \"actual_charges\": \"0.00\", \"vat_exempt\": \"0.00\", \"amount_of_discounts\": {\"senior_citizen_or_pwd\": \"0.00\", \"place_others\": \"0.00\"}, \"philhealth_benefits\": {\"first_case_rate_amount\": \"10,500.00\", \"second_case_rate_amount\": \"0.00\"}, \"out_of_pocket_of_patient\": \"0.00\"}, {\"particulars\": \"Supplies\", \"actual_charges\": \"875.00\", \"vat_exempt\": \"0.00\", \"amount_of_discounts\": {\"senior_citizen_or_pwd\": \"0.00\", \"place_others\": \"0.00\"}, \"philhealth_benefits\": {\"first_case_rate_amount\": \"10,500.00\", \"second_case_rate_amount\": \"0.00\"}, \"out_of_pocket_of_patient\": \"0.00\"}, {\"particulars\": \"Others: pls. specify\", \"actual_charges\": \"\", \"vat_exempt\": \"\", \"amount_of_discounts\": {\"senior_citizen_or_pwd\": \"\", \"place_others\": \"\"}, \"philhealth_benefits\": {\"first_case_rate_amount\": \"\", \"second_case_rate_amount\": \"\"}, \"out_of_pocket_of_patient\": \"\"}, {\"particulars\": \"Subtotal\", \"actual_charges\": \"20,512.00\", \"vat_exempt\": \"0.00\", \"amount_of_discounts\": {\"senior_citizen_or_pwd\": \"0.00\", \"place_others\": \"8,812.00\"}, \"philhealth_benefits\": {\"first_case_rate_amount\": \"10,500.00\", \"second_case_rate_amount\": \"0.00\"}, \"out_of_pocket_of_patient\": \"1,200.00\"}, {\"particulars\": \"Professional fees\", \"actual_charges\": \"\", \"vat_exempt\": \"\", \"amount_of_discounts\": {\"senior_citizen_or_pwd\": \"\", \"place_others\": \"\"}, \"philhealth_benefits\": {\"first_case_rate_amount\": \"\", \"second_case_rate_amount\": \"\"}, \"out_of_pocket_of_patient\": \"\"}, {\"particulars\": \"PAULO, LYCEL PALAMINE\", \"actual_charges\": \"4,500.00\", \"vat_exempt\": \"0.00\", \"amount_of_discounts\": {\"senior_citizen_or_pwd\": \"0.00\", \"place_others\": \"0.00\"}, \"philhealth_benefits\": {\"first_case_rate_amount\": \"4,500.00\", \"second_case_rate_amount\": \"0.00\"}, \"out_of_pocket_of_patient\": \"0.00\"}, {\"particulars\": \"Subtotal\", \"actual_charges\": \"4,500.00\", \"vat_exempt\": \"0.00\", \"amount_of_discounts\": {\"senior_citizen_or_pwd\": \"0.00\", \"place_others\": \"0.00\"}, \"philhealth_benefits\": {\"first_case_rate_amount\": \"4,500.00\", \"second_case_rate_amount\": \"0.00\"}, \"out_of_pocket_of_patient\": \"0.00\"}, {\"particulars\": \"Total\", \"actual_charges\": \"25,012.00\", \"vat_exempt\": \"0.00\", \"amount_of_discounts\": {\"senior_citizen_or_pwd\": \"0.00\", \"place_others\": \"8,812.00\"}, \"philhealth_benefits\": {\"first_case_rate_amount\": \"15,000.00\", \"second_case_rate_amount\": \"0.00\"}, \"out_of_pocket_of_patient\": \"1,200.00\"}], \"payments\": {\"payments\": \"1,200.00\", \"subtotal\": \"1,200.00\", \"balance_due\": \"0.00\"}, \"prepared_by\": \"EGRANES FAMELA QUIDANGEN\", \"conforme\": \"bralno\", \"date_signed\": \"11 - 13 - 17\", \"relationship_to_member_of_authorized_representative\": \"PATIONT\", \"contact_no\": \"NONE\", \"notes\": [\"Fill out the form legibly.\", \"The member or patient authorized representative should not sign a blank SOA.\", \"Printed CODV of SOA or its equivalent should be free of charge.\"]}\n",
            "[{'text': '{\"company\": \"ABC HO TRADING\", \"date\": \"09/01/2019\", \"address\": \"NO.2&4, JALAN HARMONI 3/2, TAMAN DESA HARMONI. 81100 JOHOR BAHRU JOHOR\", \"total\": \"31.00\"}', 'file_name': '005.jpg'}, {'text': '{\"company\": \"MR D.I.Y. (M) SDN BHD\", \"date\": \"18-11-18\", \"address\": \"LOT 1851-A & 1851-B, JALAN KPB 6, KAWASAN PERINDUSTRIAN BALAKONG, 43300 SERI KEMBANGAN, SELANGOR (TESCO PUTRA NILAI)\", \"total\": \"30.90\"}', 'file_name': '004.jpg'}, {'text': '{\"soa_reference_no\": \"2017- 50916\", \"hospital_name\": \"DOMINGO CASANO HOSPITAL\", \"hospital_address\": \"431 Real Street, Brgy 15, Dolores, Eastern Samar, Philippines\", \"phone_number\": \"927-998-0932\", \"name_of_patient\": \"IRASGA, AVELINO JUANPIT\", \"date_and_time_admitted\": \"11/9/2017 9:30 AM\", \"patient_address\": \"BRGY.1, CAN-AVID E. SAMAR\", \"date_and_time_discharged\": \"11/13/2017 9:32 AM\", \"first_case_rate\": \"J18.92\", \"diagnosises_and_icd_10_codes\": \"1. J18.92 Pneumonia, Moderate risk (C)\", \"second_case_rate\": \"\", \"surgical_procedures_and_rvs_codes_if_applicable\": \"\", \"summary_of_fees\": [{\"particulars\": \"HCI fees\", \"actual_charges\": \"\", \"vat_exempt\": \"\", \"amount_of_discounts\": {\"senior_citizen_or_pwd\": \"\", \"place_others\": \"\"}, \"philhealth_benefits\": {\"first_case_rate_amount\": \"\", \"second_case_rate_amount\": \"\"}, \"out_of_pocket_of_patient\": \"\"}, {\"particulars\": \"Room and Board 4.00 Day(s) @700.00\", \"actual_charges\": \"2,800.00\", \"vat_exempt\": \"0.00\", \"amount_of_discounts\": {\"senior_citizen_or_pwd\": \"0.00\", \"place_others\": \"1,600.00\"}, \"philhealth_benefits\": {\"first_case_rate_amount\": \"10,500.00\", \"second_case_rate_amount\": \"0.00\"}, \"out_of_pocket_of_patient\": \"1,200.00\"}, {\"particulars\": \"Drugs and Medicines\", \"actual_charges\": \"15,762.00\", \"vat_exempt\": \"0.00\", \"amount_of_discounts\": {\"senior_citizen_or_pwd\": \"0.00\", \"place_others\": \"7,212.00\"}, \"philhealth_benefits\": {\"first_case_rate_amount\": \"10,500.00\", \"second_case_rate_amount\": \"0.00\"}, \"out_of_pocket_of_patient\": \"0.00\"}, {\"particulars\": \"Laboratory & Diagnostics\", \"actual_charges\": \"1,075.00\", \"vat_exempt\": \"0.00\", \"amount_of_discounts\": {\"senior_citizen_or_pwd\": \"0.00\", \"place_others\": \"0.00\"}, \"philhealth_benefits\": {\"first_case_rate_amount\": \"10,500.00\", \"second_case_rate_amount\": \"0.00\"}, \"out_of_pocket_of_patient\": \"0.00\"}, {\"particulars\": \"Operating Room fee\", \"actual_charges\": \"0.00\", \"vat_exempt\": \"0.00\", \"amount_of_discounts\": {\"senior_citizen_or_pwd\": \"0.00\", \"place_others\": \"0.00\"}, \"philhealth_benefits\": {\"first_case_rate_amount\": \"10,500.00\", \"second_case_rate_amount\": \"0.00\"}, \"out_of_pocket_of_patient\": \"0.00\"}, {\"particulars\": \"Supplies\", \"actual_charges\": \"875.00\", \"vat_exempt\": \"0.00\", \"amount_of_discounts\": {\"senior_citizen_or_pwd\": \"0.00\", \"place_others\": \"0.00\"}, \"philhealth_benefits\": {\"first_case_rate_amount\": \"10,500.00\", \"second_case_rate_amount\": \"0.00\"}, \"out_of_pocket_of_patient\": \"0.00\"}, {\"particulars\": \"Others: pls. specify\", \"actual_charges\": \"\", \"vat_exempt\": \"\", \"amount_of_discounts\": {\"senior_citizen_or_pwd\": \"\", \"place_others\": \"\"}, \"philhealth_benefits\": {\"first_case_rate_amount\": \"\", \"second_case_rate_amount\": \"\"}, \"out_of_pocket_of_patient\": \"\"}, {\"particulars\": \"Subtotal\", \"actual_charges\": \"20,512.00\", \"vat_exempt\": \"0.00\", \"amount_of_discounts\": {\"senior_citizen_or_pwd\": \"0.00\", \"place_others\": \"8,812.00\"}, \"philhealth_benefits\": {\"first_case_rate_amount\": \"10,500.00\", \"second_case_rate_amount\": \"0.00\"}, \"out_of_pocket_of_patient\": \"1,200.00\"}, {\"particulars\": \"Professional fees\", \"actual_charges\": \"\", \"vat_exempt\": \"\", \"amount_of_discounts\": {\"senior_citizen_or_pwd\": \"\", \"place_others\": \"\"}, \"philhealth_benefits\": {\"first_case_rate_amount\": \"\", \"second_case_rate_amount\": \"\"}, \"out_of_pocket_of_patient\": \"\"}, {\"particulars\": \"PAULO, LYCEL PALAMINE\", \"actual_charges\": \"4,500.00\", \"vat_exempt\": \"0.00\", \"amount_of_discounts\": {\"senior_citizen_or_pwd\": \"0.00\", \"place_others\": \"0.00\"}, \"philhealth_benefits\": {\"first_case_rate_amount\": \"4,500.00\", \"second_case_rate_amount\": \"0.00\"}, \"out_of_pocket_of_patient\": \"0.00\"}, {\"particulars\": \"Subtotal\", \"actual_charges\": \"4,500.00\", \"vat_exempt\": \"0.00\", \"amount_of_discounts\": {\"senior_citizen_or_pwd\": \"0.00\", \"place_others\": \"0.00\"}, \"philhealth_benefits\": {\"first_case_rate_amount\": \"4,500.00\", \"second_case_rate_amount\": \"0.00\"}, \"out_of_pocket_of_patient\": \"0.00\"}, {\"particulars\": \"Total\", \"actual_charges\": \"25,012.00\", \"vat_exempt\": \"0.00\", \"amount_of_discounts\": {\"senior_citizen_or_pwd\": \"0.00\", \"place_others\": \"8,812.00\"}, \"philhealth_benefits\": {\"first_case_rate_amount\": \"15,000.00\", \"second_case_rate_amount\": \"0.00\"}, \"out_of_pocket_of_patient\": \"1,200.00\"}], \"payments\": {\"payments\": \"1,200.00\", \"subtotal\": \"1,200.00\", \"balance_due\": \"0.00\"}, \"prepared_by\": \"EGRANES FAMELA QUIDANGEN\", \"conforme\": \"bralno\", \"date_signed\": \"11 - 13 - 17\", \"relationship_to_member_of_authorized_representative\": \"PATIONT\", \"contact_no\": \"NONE\", \"notes\": [\"Fill out the form legibly.\", \"The member or patient authorized representative should not sign a blank SOA.\", \"Printed CODV of SOA or its equivalent should be free of charge.\"]}', 'file_name': '000.jpg'}]\n",
            "{'company': 'INDAH GIFT & HOME DECO', 'date': '19/10/2018', 'address': '27, JALAN DEDAP 13, TAMAN JOHOR JAYA, 81100 JOHOR BAHRU, JOHOR.', 'total': '60.30'}\n",
            "{\"company\": \"INDAH GIFT & HOME DECO\", \"date\": \"19/10/2018\", \"address\": \"27, JALAN DEDAP 13, TAMAN JOHOR JAYA, 81100 JOHOR BAHRU, JOHOR.\", \"total\": \"60.30\"}\n",
            "[{'text': '{\"company\": \"ABC HO TRADING\", \"date\": \"09/01/2019\", \"address\": \"NO.2&4, JALAN HARMONI 3/2, TAMAN DESA HARMONI. 81100 JOHOR BAHRU JOHOR\", \"total\": \"31.00\"}', 'file_name': '005.jpg'}, {'text': '{\"company\": \"MR D.I.Y. (M) SDN BHD\", \"date\": \"18-11-18\", \"address\": \"LOT 1851-A & 1851-B, JALAN KPB 6, KAWASAN PERINDUSTRIAN BALAKONG, 43300 SERI KEMBANGAN, SELANGOR (TESCO PUTRA NILAI)\", \"total\": \"30.90\"}', 'file_name': '004.jpg'}, {'text': '{\"soa_reference_no\": \"2017- 50916\", \"hospital_name\": \"DOMINGO CASANO HOSPITAL\", \"hospital_address\": \"431 Real Street, Brgy 15, Dolores, Eastern Samar, Philippines\", \"phone_number\": \"927-998-0932\", \"name_of_patient\": \"IRASGA, AVELINO JUANPIT\", \"date_and_time_admitted\": \"11/9/2017 9:30 AM\", \"patient_address\": \"BRGY.1, CAN-AVID E. SAMAR\", \"date_and_time_discharged\": \"11/13/2017 9:32 AM\", \"first_case_rate\": \"J18.92\", \"diagnosises_and_icd_10_codes\": \"1. J18.92 Pneumonia, Moderate risk (C)\", \"second_case_rate\": \"\", \"surgical_procedures_and_rvs_codes_if_applicable\": \"\", \"summary_of_fees\": [{\"particulars\": \"HCI fees\", \"actual_charges\": \"\", \"vat_exempt\": \"\", \"amount_of_discounts\": {\"senior_citizen_or_pwd\": \"\", \"place_others\": \"\"}, \"philhealth_benefits\": {\"first_case_rate_amount\": \"\", \"second_case_rate_amount\": \"\"}, \"out_of_pocket_of_patient\": \"\"}, {\"particulars\": \"Room and Board 4.00 Day(s) @700.00\", \"actual_charges\": \"2,800.00\", \"vat_exempt\": \"0.00\", \"amount_of_discounts\": {\"senior_citizen_or_pwd\": \"0.00\", \"place_others\": \"1,600.00\"}, \"philhealth_benefits\": {\"first_case_rate_amount\": \"10,500.00\", \"second_case_rate_amount\": \"0.00\"}, \"out_of_pocket_of_patient\": \"1,200.00\"}, {\"particulars\": \"Drugs and Medicines\", \"actual_charges\": \"15,762.00\", \"vat_exempt\": \"0.00\", \"amount_of_discounts\": {\"senior_citizen_or_pwd\": \"0.00\", \"place_others\": \"7,212.00\"}, \"philhealth_benefits\": {\"first_case_rate_amount\": \"10,500.00\", \"second_case_rate_amount\": \"0.00\"}, \"out_of_pocket_of_patient\": \"0.00\"}, {\"particulars\": \"Laboratory & Diagnostics\", \"actual_charges\": \"1,075.00\", \"vat_exempt\": \"0.00\", \"amount_of_discounts\": {\"senior_citizen_or_pwd\": \"0.00\", \"place_others\": \"0.00\"}, \"philhealth_benefits\": {\"first_case_rate_amount\": \"10,500.00\", \"second_case_rate_amount\": \"0.00\"}, \"out_of_pocket_of_patient\": \"0.00\"}, {\"particulars\": \"Operating Room fee\", \"actual_charges\": \"0.00\", \"vat_exempt\": \"0.00\", \"amount_of_discounts\": {\"senior_citizen_or_pwd\": \"0.00\", \"place_others\": \"0.00\"}, \"philhealth_benefits\": {\"first_case_rate_amount\": \"10,500.00\", \"second_case_rate_amount\": \"0.00\"}, \"out_of_pocket_of_patient\": \"0.00\"}, {\"particulars\": \"Supplies\", \"actual_charges\": \"875.00\", \"vat_exempt\": \"0.00\", \"amount_of_discounts\": {\"senior_citizen_or_pwd\": \"0.00\", \"place_others\": \"0.00\"}, \"philhealth_benefits\": {\"first_case_rate_amount\": \"10,500.00\", \"second_case_rate_amount\": \"0.00\"}, \"out_of_pocket_of_patient\": \"0.00\"}, {\"particulars\": \"Others: pls. specify\", \"actual_charges\": \"\", \"vat_exempt\": \"\", \"amount_of_discounts\": {\"senior_citizen_or_pwd\": \"\", \"place_others\": \"\"}, \"philhealth_benefits\": {\"first_case_rate_amount\": \"\", \"second_case_rate_amount\": \"\"}, \"out_of_pocket_of_patient\": \"\"}, {\"particulars\": \"Subtotal\", \"actual_charges\": \"20,512.00\", \"vat_exempt\": \"0.00\", \"amount_of_discounts\": {\"senior_citizen_or_pwd\": \"0.00\", \"place_others\": \"8,812.00\"}, \"philhealth_benefits\": {\"first_case_rate_amount\": \"10,500.00\", \"second_case_rate_amount\": \"0.00\"}, \"out_of_pocket_of_patient\": \"1,200.00\"}, {\"particulars\": \"Professional fees\", \"actual_charges\": \"\", \"vat_exempt\": \"\", \"amount_of_discounts\": {\"senior_citizen_or_pwd\": \"\", \"place_others\": \"\"}, \"philhealth_benefits\": {\"first_case_rate_amount\": \"\", \"second_case_rate_amount\": \"\"}, \"out_of_pocket_of_patient\": \"\"}, {\"particulars\": \"PAULO, LYCEL PALAMINE\", \"actual_charges\": \"4,500.00\", \"vat_exempt\": \"0.00\", \"amount_of_discounts\": {\"senior_citizen_or_pwd\": \"0.00\", \"place_others\": \"0.00\"}, \"philhealth_benefits\": {\"first_case_rate_amount\": \"4,500.00\", \"second_case_rate_amount\": \"0.00\"}, \"out_of_pocket_of_patient\": \"0.00\"}, {\"particulars\": \"Subtotal\", \"actual_charges\": \"4,500.00\", \"vat_exempt\": \"0.00\", \"amount_of_discounts\": {\"senior_citizen_or_pwd\": \"0.00\", \"place_others\": \"0.00\"}, \"philhealth_benefits\": {\"first_case_rate_amount\": \"4,500.00\", \"second_case_rate_amount\": \"0.00\"}, \"out_of_pocket_of_patient\": \"0.00\"}, {\"particulars\": \"Total\", \"actual_charges\": \"25,012.00\", \"vat_exempt\": \"0.00\", \"amount_of_discounts\": {\"senior_citizen_or_pwd\": \"0.00\", \"place_others\": \"8,812.00\"}, \"philhealth_benefits\": {\"first_case_rate_amount\": \"15,000.00\", \"second_case_rate_amount\": \"0.00\"}, \"out_of_pocket_of_patient\": \"1,200.00\"}], \"payments\": {\"payments\": \"1,200.00\", \"subtotal\": \"1,200.00\", \"balance_due\": \"0.00\"}, \"prepared_by\": \"EGRANES FAMELA QUIDANGEN\", \"conforme\": \"bralno\", \"date_signed\": \"11 - 13 - 17\", \"relationship_to_member_of_authorized_representative\": \"PATIONT\", \"contact_no\": \"NONE\", \"notes\": [\"Fill out the form legibly.\", \"The member or patient authorized representative should not sign a blank SOA.\", \"Printed CODV of SOA or its equivalent should be free of charge.\"]}', 'file_name': '000.jpg'}, {'text': '{\"company\": \"INDAH GIFT & HOME DECO\", \"date\": \"19/10/2018\", \"address\": \"27, JALAN DEDAP 13, TAMAN JOHOR JAYA, 81100 JOHOR BAHRU, JOHOR.\", \"total\": \"60.30\"}', 'file_name': '001.jpg'}]\n",
            "{'company': 'MR D.I.Y. (JOHOR) SDN BHD', 'date': '12-01-19', 'address': 'LOT 1851-A & 1851-B, JALAN KPB 6, KAWASAN PERINDUSTRIAN BALAKONG, 43300 SERI KEMBANGAN, SELANGOR (MR DIY TESCO TERBAU)', 'total': '33.90'}\n",
            "{\"company\": \"MR D.I.Y. (JOHOR) SDN BHD\", \"date\": \"12-01-19\", \"address\": \"LOT 1851-A & 1851-B, JALAN KPB 6, KAWASAN PERINDUSTRIAN BALAKONG, 43300 SERI KEMBANGAN, SELANGOR (MR DIY TESCO TERBAU)\", \"total\": \"33.90\"}\n",
            "[{'text': '{\"company\": \"ABC HO TRADING\", \"date\": \"09/01/2019\", \"address\": \"NO.2&4, JALAN HARMONI 3/2, TAMAN DESA HARMONI. 81100 JOHOR BAHRU JOHOR\", \"total\": \"31.00\"}', 'file_name': '005.jpg'}, {'text': '{\"company\": \"MR D.I.Y. (M) SDN BHD\", \"date\": \"18-11-18\", \"address\": \"LOT 1851-A & 1851-B, JALAN KPB 6, KAWASAN PERINDUSTRIAN BALAKONG, 43300 SERI KEMBANGAN, SELANGOR (TESCO PUTRA NILAI)\", \"total\": \"30.90\"}', 'file_name': '004.jpg'}, {'text': '{\"soa_reference_no\": \"2017- 50916\", \"hospital_name\": \"DOMINGO CASANO HOSPITAL\", \"hospital_address\": \"431 Real Street, Brgy 15, Dolores, Eastern Samar, Philippines\", \"phone_number\": \"927-998-0932\", \"name_of_patient\": \"IRASGA, AVELINO JUANPIT\", \"date_and_time_admitted\": \"11/9/2017 9:30 AM\", \"patient_address\": \"BRGY.1, CAN-AVID E. SAMAR\", \"date_and_time_discharged\": \"11/13/2017 9:32 AM\", \"first_case_rate\": \"J18.92\", \"diagnosises_and_icd_10_codes\": \"1. J18.92 Pneumonia, Moderate risk (C)\", \"second_case_rate\": \"\", \"surgical_procedures_and_rvs_codes_if_applicable\": \"\", \"summary_of_fees\": [{\"particulars\": \"HCI fees\", \"actual_charges\": \"\", \"vat_exempt\": \"\", \"amount_of_discounts\": {\"senior_citizen_or_pwd\": \"\", \"place_others\": \"\"}, \"philhealth_benefits\": {\"first_case_rate_amount\": \"\", \"second_case_rate_amount\": \"\"}, \"out_of_pocket_of_patient\": \"\"}, {\"particulars\": \"Room and Board 4.00 Day(s) @700.00\", \"actual_charges\": \"2,800.00\", \"vat_exempt\": \"0.00\", \"amount_of_discounts\": {\"senior_citizen_or_pwd\": \"0.00\", \"place_others\": \"1,600.00\"}, \"philhealth_benefits\": {\"first_case_rate_amount\": \"10,500.00\", \"second_case_rate_amount\": \"0.00\"}, \"out_of_pocket_of_patient\": \"1,200.00\"}, {\"particulars\": \"Drugs and Medicines\", \"actual_charges\": \"15,762.00\", \"vat_exempt\": \"0.00\", \"amount_of_discounts\": {\"senior_citizen_or_pwd\": \"0.00\", \"place_others\": \"7,212.00\"}, \"philhealth_benefits\": {\"first_case_rate_amount\": \"10,500.00\", \"second_case_rate_amount\": \"0.00\"}, \"out_of_pocket_of_patient\": \"0.00\"}, {\"particulars\": \"Laboratory & Diagnostics\", \"actual_charges\": \"1,075.00\", \"vat_exempt\": \"0.00\", \"amount_of_discounts\": {\"senior_citizen_or_pwd\": \"0.00\", \"place_others\": \"0.00\"}, \"philhealth_benefits\": {\"first_case_rate_amount\": \"10,500.00\", \"second_case_rate_amount\": \"0.00\"}, \"out_of_pocket_of_patient\": \"0.00\"}, {\"particulars\": \"Operating Room fee\", \"actual_charges\": \"0.00\", \"vat_exempt\": \"0.00\", \"amount_of_discounts\": {\"senior_citizen_or_pwd\": \"0.00\", \"place_others\": \"0.00\"}, \"philhealth_benefits\": {\"first_case_rate_amount\": \"10,500.00\", \"second_case_rate_amount\": \"0.00\"}, \"out_of_pocket_of_patient\": \"0.00\"}, {\"particulars\": \"Supplies\", \"actual_charges\": \"875.00\", \"vat_exempt\": \"0.00\", \"amount_of_discounts\": {\"senior_citizen_or_pwd\": \"0.00\", \"place_others\": \"0.00\"}, \"philhealth_benefits\": {\"first_case_rate_amount\": \"10,500.00\", \"second_case_rate_amount\": \"0.00\"}, \"out_of_pocket_of_patient\": \"0.00\"}, {\"particulars\": \"Others: pls. specify\", \"actual_charges\": \"\", \"vat_exempt\": \"\", \"amount_of_discounts\": {\"senior_citizen_or_pwd\": \"\", \"place_others\": \"\"}, \"philhealth_benefits\": {\"first_case_rate_amount\": \"\", \"second_case_rate_amount\": \"\"}, \"out_of_pocket_of_patient\": \"\"}, {\"particulars\": \"Subtotal\", \"actual_charges\": \"20,512.00\", \"vat_exempt\": \"0.00\", \"amount_of_discounts\": {\"senior_citizen_or_pwd\": \"0.00\", \"place_others\": \"8,812.00\"}, \"philhealth_benefits\": {\"first_case_rate_amount\": \"10,500.00\", \"second_case_rate_amount\": \"0.00\"}, \"out_of_pocket_of_patient\": \"1,200.00\"}, {\"particulars\": \"Professional fees\", \"actual_charges\": \"\", \"vat_exempt\": \"\", \"amount_of_discounts\": {\"senior_citizen_or_pwd\": \"\", \"place_others\": \"\"}, \"philhealth_benefits\": {\"first_case_rate_amount\": \"\", \"second_case_rate_amount\": \"\"}, \"out_of_pocket_of_patient\": \"\"}, {\"particulars\": \"PAULO, LYCEL PALAMINE\", \"actual_charges\": \"4,500.00\", \"vat_exempt\": \"0.00\", \"amount_of_discounts\": {\"senior_citizen_or_pwd\": \"0.00\", \"place_others\": \"0.00\"}, \"philhealth_benefits\": {\"first_case_rate_amount\": \"4,500.00\", \"second_case_rate_amount\": \"0.00\"}, \"out_of_pocket_of_patient\": \"0.00\"}, {\"particulars\": \"Subtotal\", \"actual_charges\": \"4,500.00\", \"vat_exempt\": \"0.00\", \"amount_of_discounts\": {\"senior_citizen_or_pwd\": \"0.00\", \"place_others\": \"0.00\"}, \"philhealth_benefits\": {\"first_case_rate_amount\": \"4,500.00\", \"second_case_rate_amount\": \"0.00\"}, \"out_of_pocket_of_patient\": \"0.00\"}, {\"particulars\": \"Total\", \"actual_charges\": \"25,012.00\", \"vat_exempt\": \"0.00\", \"amount_of_discounts\": {\"senior_citizen_or_pwd\": \"0.00\", \"place_others\": \"8,812.00\"}, \"philhealth_benefits\": {\"first_case_rate_amount\": \"15,000.00\", \"second_case_rate_amount\": \"0.00\"}, \"out_of_pocket_of_patient\": \"1,200.00\"}], \"payments\": {\"payments\": \"1,200.00\", \"subtotal\": \"1,200.00\", \"balance_due\": \"0.00\"}, \"prepared_by\": \"EGRANES FAMELA QUIDANGEN\", \"conforme\": \"bralno\", \"date_signed\": \"11 - 13 - 17\", \"relationship_to_member_of_authorized_representative\": \"PATIONT\", \"contact_no\": \"NONE\", \"notes\": [\"Fill out the form legibly.\", \"The member or patient authorized representative should not sign a blank SOA.\", \"Printed CODV of SOA or its equivalent should be free of charge.\"]}', 'file_name': '000.jpg'}, {'text': '{\"company\": \"INDAH GIFT & HOME DECO\", \"date\": \"19/10/2018\", \"address\": \"27, JALAN DEDAP 13, TAMAN JOHOR JAYA, 81100 JOHOR BAHRU, JOHOR.\", \"total\": \"60.30\"}', 'file_name': '001.jpg'}, {'text': '{\"company\": \"MR D.I.Y. (JOHOR) SDN BHD\", \"date\": \"12-01-19\", \"address\": \"LOT 1851-A & 1851-B, JALAN KPB 6, KAWASAN PERINDUSTRIAN BALAKONG, 43300 SERI KEMBANGAN, SELANGOR (MR DIY TESCO TERBAU)\", \"total\": \"33.90\"}', 'file_name': '002.jpg'}]\n",
            "{'company': 'YONGFATT ENTERPRISE', 'date': '25/12/2018', 'address': 'NO 122.124. JALAN DEDAP 13 81100 JOHOR BAHRU', 'total': '80.90'}\n",
            "{\"company\": \"YONGFATT ENTERPRISE\", \"date\": \"25/12/2018\", \"address\": \"NO 122.124. JALAN DEDAP 13 81100 JOHOR BAHRU\", \"total\": \"80.90\"}\n",
            "[{'text': '{\"company\": \"ABC HO TRADING\", \"date\": \"09/01/2019\", \"address\": \"NO.2&4, JALAN HARMONI 3/2, TAMAN DESA HARMONI. 81100 JOHOR BAHRU JOHOR\", \"total\": \"31.00\"}', 'file_name': '005.jpg'}, {'text': '{\"company\": \"MR D.I.Y. (M) SDN BHD\", \"date\": \"18-11-18\", \"address\": \"LOT 1851-A & 1851-B, JALAN KPB 6, KAWASAN PERINDUSTRIAN BALAKONG, 43300 SERI KEMBANGAN, SELANGOR (TESCO PUTRA NILAI)\", \"total\": \"30.90\"}', 'file_name': '004.jpg'}, {'text': '{\"soa_reference_no\": \"2017- 50916\", \"hospital_name\": \"DOMINGO CASANO HOSPITAL\", \"hospital_address\": \"431 Real Street, Brgy 15, Dolores, Eastern Samar, Philippines\", \"phone_number\": \"927-998-0932\", \"name_of_patient\": \"IRASGA, AVELINO JUANPIT\", \"date_and_time_admitted\": \"11/9/2017 9:30 AM\", \"patient_address\": \"BRGY.1, CAN-AVID E. SAMAR\", \"date_and_time_discharged\": \"11/13/2017 9:32 AM\", \"first_case_rate\": \"J18.92\", \"diagnosises_and_icd_10_codes\": \"1. J18.92 Pneumonia, Moderate risk (C)\", \"second_case_rate\": \"\", \"surgical_procedures_and_rvs_codes_if_applicable\": \"\", \"summary_of_fees\": [{\"particulars\": \"HCI fees\", \"actual_charges\": \"\", \"vat_exempt\": \"\", \"amount_of_discounts\": {\"senior_citizen_or_pwd\": \"\", \"place_others\": \"\"}, \"philhealth_benefits\": {\"first_case_rate_amount\": \"\", \"second_case_rate_amount\": \"\"}, \"out_of_pocket_of_patient\": \"\"}, {\"particulars\": \"Room and Board 4.00 Day(s) @700.00\", \"actual_charges\": \"2,800.00\", \"vat_exempt\": \"0.00\", \"amount_of_discounts\": {\"senior_citizen_or_pwd\": \"0.00\", \"place_others\": \"1,600.00\"}, \"philhealth_benefits\": {\"first_case_rate_amount\": \"10,500.00\", \"second_case_rate_amount\": \"0.00\"}, \"out_of_pocket_of_patient\": \"1,200.00\"}, {\"particulars\": \"Drugs and Medicines\", \"actual_charges\": \"15,762.00\", \"vat_exempt\": \"0.00\", \"amount_of_discounts\": {\"senior_citizen_or_pwd\": \"0.00\", \"place_others\": \"7,212.00\"}, \"philhealth_benefits\": {\"first_case_rate_amount\": \"10,500.00\", \"second_case_rate_amount\": \"0.00\"}, \"out_of_pocket_of_patient\": \"0.00\"}, {\"particulars\": \"Laboratory & Diagnostics\", \"actual_charges\": \"1,075.00\", \"vat_exempt\": \"0.00\", \"amount_of_discounts\": {\"senior_citizen_or_pwd\": \"0.00\", \"place_others\": \"0.00\"}, \"philhealth_benefits\": {\"first_case_rate_amount\": \"10,500.00\", \"second_case_rate_amount\": \"0.00\"}, \"out_of_pocket_of_patient\": \"0.00\"}, {\"particulars\": \"Operating Room fee\", \"actual_charges\": \"0.00\", \"vat_exempt\": \"0.00\", \"amount_of_discounts\": {\"senior_citizen_or_pwd\": \"0.00\", \"place_others\": \"0.00\"}, \"philhealth_benefits\": {\"first_case_rate_amount\": \"10,500.00\", \"second_case_rate_amount\": \"0.00\"}, \"out_of_pocket_of_patient\": \"0.00\"}, {\"particulars\": \"Supplies\", \"actual_charges\": \"875.00\", \"vat_exempt\": \"0.00\", \"amount_of_discounts\": {\"senior_citizen_or_pwd\": \"0.00\", \"place_others\": \"0.00\"}, \"philhealth_benefits\": {\"first_case_rate_amount\": \"10,500.00\", \"second_case_rate_amount\": \"0.00\"}, \"out_of_pocket_of_patient\": \"0.00\"}, {\"particulars\": \"Others: pls. specify\", \"actual_charges\": \"\", \"vat_exempt\": \"\", \"amount_of_discounts\": {\"senior_citizen_or_pwd\": \"\", \"place_others\": \"\"}, \"philhealth_benefits\": {\"first_case_rate_amount\": \"\", \"second_case_rate_amount\": \"\"}, \"out_of_pocket_of_patient\": \"\"}, {\"particulars\": \"Subtotal\", \"actual_charges\": \"20,512.00\", \"vat_exempt\": \"0.00\", \"amount_of_discounts\": {\"senior_citizen_or_pwd\": \"0.00\", \"place_others\": \"8,812.00\"}, \"philhealth_benefits\": {\"first_case_rate_amount\": \"10,500.00\", \"second_case_rate_amount\": \"0.00\"}, \"out_of_pocket_of_patient\": \"1,200.00\"}, {\"particulars\": \"Professional fees\", \"actual_charges\": \"\", \"vat_exempt\": \"\", \"amount_of_discounts\": {\"senior_citizen_or_pwd\": \"\", \"place_others\": \"\"}, \"philhealth_benefits\": {\"first_case_rate_amount\": \"\", \"second_case_rate_amount\": \"\"}, \"out_of_pocket_of_patient\": \"\"}, {\"particulars\": \"PAULO, LYCEL PALAMINE\", \"actual_charges\": \"4,500.00\", \"vat_exempt\": \"0.00\", \"amount_of_discounts\": {\"senior_citizen_or_pwd\": \"0.00\", \"place_others\": \"0.00\"}, \"philhealth_benefits\": {\"first_case_rate_amount\": \"4,500.00\", \"second_case_rate_amount\": \"0.00\"}, \"out_of_pocket_of_patient\": \"0.00\"}, {\"particulars\": \"Subtotal\", \"actual_charges\": \"4,500.00\", \"vat_exempt\": \"0.00\", \"amount_of_discounts\": {\"senior_citizen_or_pwd\": \"0.00\", \"place_others\": \"0.00\"}, \"philhealth_benefits\": {\"first_case_rate_amount\": \"4,500.00\", \"second_case_rate_amount\": \"0.00\"}, \"out_of_pocket_of_patient\": \"0.00\"}, {\"particulars\": \"Total\", \"actual_charges\": \"25,012.00\", \"vat_exempt\": \"0.00\", \"amount_of_discounts\": {\"senior_citizen_or_pwd\": \"0.00\", \"place_others\": \"8,812.00\"}, \"philhealth_benefits\": {\"first_case_rate_amount\": \"15,000.00\", \"second_case_rate_amount\": \"0.00\"}, \"out_of_pocket_of_patient\": \"1,200.00\"}], \"payments\": {\"payments\": \"1,200.00\", \"subtotal\": \"1,200.00\", \"balance_due\": \"0.00\"}, \"prepared_by\": \"EGRANES FAMELA QUIDANGEN\", \"conforme\": \"bralno\", \"date_signed\": \"11 - 13 - 17\", \"relationship_to_member_of_authorized_representative\": \"PATIONT\", \"contact_no\": \"NONE\", \"notes\": [\"Fill out the form legibly.\", \"The member or patient authorized representative should not sign a blank SOA.\", \"Printed CODV of SOA or its equivalent should be free of charge.\"]}', 'file_name': '000.jpg'}, {'text': '{\"company\": \"INDAH GIFT & HOME DECO\", \"date\": \"19/10/2018\", \"address\": \"27, JALAN DEDAP 13, TAMAN JOHOR JAYA, 81100 JOHOR BAHRU, JOHOR.\", \"total\": \"60.30\"}', 'file_name': '001.jpg'}, {'text': '{\"company\": \"MR D.I.Y. (JOHOR) SDN BHD\", \"date\": \"12-01-19\", \"address\": \"LOT 1851-A & 1851-B, JALAN KPB 6, KAWASAN PERINDUSTRIAN BALAKONG, 43300 SERI KEMBANGAN, SELANGOR (MR DIY TESCO TERBAU)\", \"total\": \"33.90\"}', 'file_name': '002.jpg'}, {'text': '{\"company\": \"YONGFATT ENTERPRISE\", \"date\": \"25/12/2018\", \"address\": \"NO 122.124. JALAN DEDAP 13 81100 JOHOR BAHRU\", \"total\": \"80.90\"}', 'file_name': '003.jpg'}]\n"
          ]
        }
      ]
    },
    {
      "cell_type": "code",
      "source": [
        "import os\n",
        "import json\n",
        "from pathlib import Path\n",
        "import shutil\n",
        "from datasets import load_dataset\n",
        "\n",
        "# define paths\n",
        "base_path = Path(\"data\")\n",
        "metadata_path = base_path.joinpath(\"key\")\n",
        "image_path = base_path.joinpath(\"img\")\n",
        "\n",
        "# Load dataset\n",
        "dataset = load_dataset(\"imagefolder\", data_dir=image_path, split=\"train\")\n",
        "\n",
        "print(f\"Dataset has {len(dataset)} images\")\n",
        "print(f\"Dataset features are: {dataset.features.keys()}\")"
      ],
      "metadata": {
        "colab": {
          "base_uri": "https://localhost:8080/",
          "height": 84,
          "referenced_widgets": [
            "d4473f353f61484991b55a2b9920fa9a",
            "da9d05c17e0a41899f02049f69bf3c2f",
            "18a50a5084e446f0a3d9db0fbfc576a9",
            "23d729b2c474445a84c630e212828298",
            "6a3f1613941a45429d5ad82dac37db56",
            "44daf0a964d0408eb606cb158fb1ff5c",
            "93cf83ade8954b75a363920857068799",
            "9835ba49b3a745bfafdcbe5d9b08573b",
            "47ec9f0606bf49dc9c4d5cc47367360c",
            "d92fda9032614ec0b86a08789bd8ccf9",
            "fb5512d25b4749e3853f27a4e51cb8ad"
          ]
        },
        "id": "IKtaGqmtBJ-P",
        "outputId": "cb89b021-da52-4df1-85dc-f209c483651c"
      },
      "execution_count": 6,
      "outputs": [
        {
          "output_type": "display_data",
          "data": {
            "text/plain": [
              "Generating train split: 0 examples [00:00, ? examples/s]"
            ],
            "application/vnd.jupyter.widget-view+json": {
              "version_major": 2,
              "version_minor": 0,
              "model_id": "d4473f353f61484991b55a2b9920fa9a"
            }
          },
          "metadata": {}
        },
        {
          "output_type": "stream",
          "name": "stdout",
          "text": [
            "Dataset has 6 images\n",
            "Dataset features are: dict_keys(['image', 'text'])\n"
          ]
        }
      ]
    },
    {
      "cell_type": "code",
      "source": [
        "import random\n",
        "\n",
        "random_sample = random.randint(0, len(dataset))\n",
        "\n",
        "print(f\"Random sample is {random_sample}\")\n",
        "print(f\"OCR text is {dataset[random_sample]['text']}\")\n",
        "dataset[random_sample]['image'].resize((250,400))"
      ],
      "metadata": {
        "colab": {
          "base_uri": "https://localhost:8080/",
          "height": 472
        },
        "id": "9SahoqBUUBrd",
        "outputId": "c4e47997-1ac4-4e03-ea35-2d8e720f095d"
      },
      "execution_count": 7,
      "outputs": [
        {
          "output_type": "stream",
          "name": "stdout",
          "text": [
            "Random sample is 5\n",
            "OCR text is {\"company\": \"ABC HO TRADING\", \"date\": \"09/01/2019\", \"address\": \"NO.2&4, JALAN HARMONI 3/2, TAMAN DESA HARMONI. 81100 JOHOR BAHRU JOHOR\", \"total\": \"31.00\"}\n"
          ]
        },
        {
          "output_type": "execute_result",
          "data": {
            "text/plain": [
              "<PIL.Image.Image image mode=RGB size=250x400>"
            ],
            "image/png": "[encoded data removed]"
          },
          "metadata": {},
          "execution_count": 7
        }
      ]
    },
    {
      "cell_type": "code",
      "source": [
        "new_special_tokens = [] # new tokens which will be added to the tokenizer\n",
        "task_start_token = \"<s>\"  # start of task token\n",
        "eos_token = \"</s>\" # eos token of tokenizer\n",
        "\n",
        "def json2token(obj, update_special_tokens_for_json_key: bool = True, sort_json_key: bool = True):\n",
        "    \"\"\"\n",
        "    Convert an ordered JSON object into a token sequence\n",
        "    \"\"\"\n",
        "    if type(obj) == dict:\n",
        "        if len(obj) == 1 and \"text_sequence\" in obj:\n",
        "            return obj[\"text_sequence\"]\n",
        "        else:\n",
        "            output = \"\"\n",
        "            if sort_json_key:\n",
        "                keys = sorted(obj.keys(), reverse=True)\n",
        "            else:\n",
        "                keys = obj.keys()\n",
        "            for k in keys:\n",
        "                if update_special_tokens_for_json_key:\n",
        "                    new_special_tokens.append(fr\"<s_{k}>\") if fr\"<s_{k}>\" not in new_special_tokens else None\n",
        "                    new_special_tokens.append(fr\"</s_{k}>\") if fr\"</s_{k}>\" not in new_special_tokens else None\n",
        "                output += (\n",
        "                    fr\"<s_{k}>\"\n",
        "                    + json2token(obj[k], update_special_tokens_for_json_key, sort_json_key)\n",
        "                    + fr\"</s_{k}>\"\n",
        "                )\n",
        "            return output\n",
        "    elif type(obj) == list:\n",
        "        return r\"<sep/>\".join(\n",
        "            [json2token(item, update_special_tokens_for_json_key, sort_json_key) for item in obj]\n",
        "        )\n",
        "    else:\n",
        "        # excluded special tokens for now\n",
        "        obj = str(obj)\n",
        "        if f\"<{obj}/>\" in new_special_tokens:\n",
        "            obj = f\"<{obj}/>\"  # for categorical special tokens\n",
        "        return obj\n",
        "\n",
        "\n",
        "def preprocess_documents_for_donut(sample):\n",
        "    # create Donut-style input\n",
        "    text = json.loads(sample[\"text\"])\n",
        "    d_doc = task_start_token + json2token(text) + eos_token\n",
        "    # convert all images to RGB\n",
        "    image = sample[\"image\"].convert('RGB')\n",
        "    return {\"image\": image, \"text\": d_doc}\n",
        "\n",
        "proc_dataset = dataset.map(preprocess_documents_for_donut)\n",
        "\n",
        "# Check the length of proc_dataset\n",
        "print(f\"Length of proc_dataset: {len(proc_dataset)}\")\n",
        "\n",
        "# Access a valid index (0 if the length is 1)\n",
        "valid_index = 0 if len(proc_dataset) == 1 else 1\n",
        "print(f\"Sample: {proc_dataset[valid_index]['text']}\")\n",
        "print(f\"New special tokens: {new_special_tokens + [task_start_token] + [eos_token]}\")"
      ],
      "metadata": {
        "colab": {
          "base_uri": "https://localhost:8080/",
          "height": 121,
          "referenced_widgets": [
            "0e7e2e69ffc44bc791f4149c29294912",
            "d900a389a7fd4a03ad70f27fd5b70dfe",
            "d3ca87d1cfdd40e580267535f5240524",
            "d623091133844ae6827eaea24c9a2ba2",
            "8155aab7490140d290844fa57bf93991",
            "d2c526f393f4465ba12eccc7b6d8837c",
            "114f0a1b34584f838ce51efab74df91e",
            "697d0d5549b140bca37239c523bf1dbf",
            "556d704781944831b22463ae85ec72c7",
            "32011e4b275c48dbbaf5c9c498b8271d",
            "9b62428f1f164ab2a7df0730dce77b64"
          ]
        },
        "id": "x87ExbI8U2Jf",
        "outputId": "02af5d19-1cf0-4d8c-f21b-64c3fc8e45b1"
      },
      "execution_count": 8,
      "outputs": [
        {
          "output_type": "display_data",
          "data": {
            "text/plain": [
              "Map:   0%|          | 0/6 [00:00<?, ? examples/s]"
            ],
            "application/vnd.jupyter.widget-view+json": {
              "version_major": 2,
              "version_minor": 0,
              "model_id": "0e7e2e69ffc44bc791f4149c29294912"
            }
          },
          "metadata": {}
        },
        {
          "output_type": "stream",
          "name": "stdout",
          "text": [
            "Length of proc_dataset: 6\n",
            "Sample: <s><s_total>60.30</s_total><s_date>19/10/2018</s_date><s_company>INDAH GIFT & HOME DECO</s_company><s_address>27, JALAN DEDAP 13, TAMAN JOHOR JAYA, 81100 JOHOR BAHRU, JOHOR.</s_address></s>\n",
            "New special tokens: ['<s_surgical_procedures_and_rvs_codes_if_applicable>', '</s_surgical_procedures_and_rvs_codes_if_applicable>', '<s_summary_of_fees>', '</s_summary_of_fees>', '<s_vat_exempt>', '</s_vat_exempt>', '<s_philhealth_benefits>', '</s_philhealth_benefits>', '<s_second_case_rate_amount>', '</s_second_case_rate_amount>', '<s_first_case_rate_amount>', '</s_first_case_rate_amount>', '<s_particulars>', '</s_particulars>', '<s_out_of_pocket_of_patient>', '</s_out_of_pocket_of_patient>', '<s_amount_of_discounts>', '</s_amount_of_discounts>', '<s_senior_citizen_or_pwd>', '</s_senior_citizen_or_pwd>', '<s_place_others>', '</s_place_others>', '<s_actual_charges>', '</s_actual_charges>', '<s_soa_reference_no>', '</s_soa_reference_no>', '<s_second_case_rate>', '</s_second_case_rate>', '<s_relationship_to_member_of_authorized_representative>', '</s_relationship_to_member_of_authorized_representative>', '<s_prepared_by>', '</s_prepared_by>', '<s_phone_number>', '</s_phone_number>', '<s_payments>', '</s_payments>', '<s_subtotal>', '</s_subtotal>', '<s_balance_due>', '</s_balance_due>', '<s_patient_address>', '</s_patient_address>', '<s_notes>', '</s_notes>', '<s_name_of_patient>', '</s_name_of_patient>', '<s_hospital_name>', '</s_hospital_name>', '<s_hospital_address>', '</s_hospital_address>', '<s_first_case_rate>', '</s_first_case_rate>', '<s_diagnosises_and_icd_10_codes>', '</s_diagnosises_and_icd_10_codes>', '<s_date_signed>', '</s_date_signed>', '<s_date_and_time_discharged>', '</s_date_and_time_discharged>', '<s_date_and_time_admitted>', '</s_date_and_time_admitted>', '<s_contact_no>', '</s_contact_no>', '<s_conforme>', '</s_conforme>', '<s_total>', '</s_total>', '<s_date>', '</s_date>', '<s_company>', '</s_company>', '<s_address>', '</s_address>', '<s>', '</s>']\n"
          ]
        }
      ]
    },
    {
      "cell_type": "code",
      "source": [
        "from transformers import DonutProcessor\n",
        "\n",
        "# Load processor\n",
        "processor = DonutProcessor.from_pretrained(\"naver-clova-ix/donut-base\")\n",
        "\n",
        "# add new special tokens to tokenizer\n",
        "processor.tokenizer.add_special_tokens({\"additional_special_tokens\": new_special_tokens + [task_start_token] + [eos_token]})\n",
        "\n",
        "# we update some settings which differ from pretraining; namely the size of the images + no rotation required\n",
        "# resizing the image to smaller sizes from [1920, 2560] to [960,1280]\n",
        "processor.feature_extractor.size = [720,960] # should be (width, height)\n",
        "processor.feature_extractor.do_align_long_axis = False"
      ],
      "metadata": {
        "colab": {
          "base_uri": "https://localhost:8080/"
        },
        "id": "BKMTD98QXwqV",
        "outputId": "86a35ea9-3a39-4be5-e8b5-b4fb1f2cc9d0"
      },
      "execution_count": 9,
      "outputs": [
        {
          "output_type": "stream",
          "name": "stderr",
          "text": [
            "/usr/local/lib/python3.10/dist-packages/huggingface_hub/utils/_token.py:89: UserWarning: \n",
            "The secret `HF_TOKEN` does not exist in your Colab secrets.\n",
            "To authenticate with the Hugging Face Hub, create a token in your settings tab (https://huggingface.co/settings/tokens), set it as secret in your Google Colab and restart your session.\n",
            "You will be able to reuse this secret in all of your notebooks.\n",
            "Please note that authentication is recommended but still optional to access public models or datasets.\n",
            "  warnings.warn(\n",
            "/usr/local/lib/python3.10/dist-packages/transformers/tokenization_utils_base.py:1602: FutureWarning: `clean_up_tokenization_spaces` was not set. It will be set to `True` by default. This behavior will be deprecated in transformers v4.45, and will be then set to `False` by default. For more details check this issue: https://github.com/huggingface/transformers/issues/31884\n",
            "  warnings.warn(\n",
            "/usr/local/lib/python3.10/dist-packages/transformers/models/donut/processing_donut.py:193: FutureWarning: `feature_extractor` is deprecated and will be removed in v5. Use `image_processor` instead.\n",
            "  warnings.warn(\n"
          ]
        }
      ]
    },
    {
      "cell_type": "code",
      "source": [
        "def transform_and_tokenize(sample, processor=processor, split=\"train\", max_length=512, ignore_id=-100):\n",
        "    # create tensor from image\n",
        "    try:\n",
        "        pixel_values = processor(\n",
        "            sample[\"image\"], random_padding=split == \"train\", return_tensors=\"pt\"\n",
        "        ).pixel_values.squeeze()\n",
        "    except Exception as e:\n",
        "        print(sample)\n",
        "        print(f\"Error: {e}\")\n",
        "        return {}\n",
        "\n",
        "    # tokenize document\n",
        "    input_ids = processor.tokenizer(\n",
        "        sample[\"text\"],\n",
        "        add_special_tokens=False,\n",
        "        max_length=max_length,\n",
        "        padding=\"max_length\",\n",
        "        truncation=True,\n",
        "        return_tensors=\"pt\",\n",
        "    )[\"input_ids\"].squeeze(0)\n",
        "\n",
        "    labels = input_ids.clone()\n",
        "    labels[labels == processor.tokenizer.pad_token_id] = ignore_id  # model doesn't need to predict pad token\n",
        "    return {\"pixel_values\": pixel_values, \"labels\": labels, \"target_sequence\": sample[\"text\"]}\n",
        "\n",
        "# need at least 32-64GB of RAM to run this\n",
        "processed_dataset = proc_dataset.map(transform_and_tokenize,remove_columns=[\"image\",\"text\"])"
      ],
      "metadata": {
        "colab": {
          "base_uri": "https://localhost:8080/",
          "height": 49,
          "referenced_widgets": [
            "a71b54f25bf84920a81a261e3a228265",
            "7a1955f43d5f476c890e3018fd911cdc",
            "7be18ba8870f45babd4cdcdf209892f9",
            "2200b8ab00a84d93b90014b33b8f79b3",
            "d020aa332a7a4c1d93cc06ee9da5f70e",
            "9048eceab83e432685b35289272e8851",
            "d2861006502d48989ccaf77579b6abcd",
            "468541a3b3aa4b26bd8f5b8f6eafeae5",
            "57fa8770b2e44e2bad82277fa6ef9c97",
            "d7e9534311eb441cafb2a84cfa555511",
            "58c44df69f1f4bee9cb0ec0f9d9fa962"
          ]
        },
        "id": "hS4_5Dg_YB4B",
        "outputId": "82c6267b-1423-4c69-d0f4-45775ac16ebf"
      },
      "execution_count": 10,
      "outputs": [
        {
          "output_type": "display_data",
          "data": {
            "text/plain": [
              "Map:   0%|          | 0/6 [00:00<?, ? examples/s]"
            ],
            "application/vnd.jupyter.widget-view+json": {
              "version_major": 2,
              "version_minor": 0,
              "model_id": "a71b54f25bf84920a81a261e3a228265"
            }
          },
          "metadata": {}
        }
      ]
    },
    {
      "cell_type": "code",
      "source": [
        "processed_dataset = processed_dataset.train_test_split(test_size=0.1)\n",
        "print(processed_dataset)"
      ],
      "metadata": {
        "colab": {
          "base_uri": "https://localhost:8080/",
          "height": 159
        },
        "id": "a4QgvFO7YQEf",
        "outputId": "d8580af2-e22d-4aac-ba40-ca63cedbd90f"
      },
      "execution_count": 43,
      "outputs": [
        {
          "output_type": "error",
          "ename": "AttributeError",
          "evalue": "'DatasetDict' object has no attribute 'train_test_split'",
          "traceback": [
            "\u001b[0;31m---------------------------------------------------------------------------\u001b[0m",
            "\u001b[0;31mAttributeError\u001b[0m                            Traceback (most recent call last)",
            "\u001b[0;32m<ipython-input-43-2b43b4860f06>\u001b[0m in \u001b[0;36m<cell line: 1>\u001b[0;34m()\u001b[0m\n\u001b[0;32m----> 1\u001b[0;31m \u001b[0mprocessed_dataset\u001b[0m \u001b[0;34m=\u001b[0m \u001b[0mprocessed_dataset\u001b[0m\u001b[0;34m.\u001b[0m\u001b[0mtrain_test_split\u001b[0m\u001b[0;34m(\u001b[0m\u001b[0mtest_size\u001b[0m\u001b[0;34m=\u001b[0m\u001b[0;36m0.1\u001b[0m\u001b[0;34m)\u001b[0m\u001b[0;34m\u001b[0m\u001b[0;34m\u001b[0m\u001b[0m\n\u001b[0m\u001b[1;32m      2\u001b[0m \u001b[0mprint\u001b[0m\u001b[0;34m(\u001b[0m\u001b[0mprocessed_dataset\u001b[0m\u001b[0;34m)\u001b[0m\u001b[0;34m\u001b[0m\u001b[0;34m\u001b[0m\u001b[0m\n",
            "\u001b[0;31mAttributeError\u001b[0m: 'DatasetDict' object has no attribute 'train_test_split'"
          ]
        }
      ]
    },
    {
      "cell_type": "code",
      "source": [
        "import torch\n",
        "from transformers import VisionEncoderDecoderModel, VisionEncoderDecoderConfig, GenerationConfig # import GenerationConfig\n",
        "\n",
        "# Load model from huggingface.co\n",
        "model = VisionEncoderDecoderModel.from_pretrained(\"naver-clova-ix/donut-base\")\n",
        "\n",
        "# Resize embedding layer to match vocabulary size\n",
        "new_emb = model.decoder.resize_token_embeddings(len(processor.tokenizer))\n",
        "print(f\"New embedding size: {new_emb}\")\n",
        "# Adjust our image size and output sequence lengths\n",
        "model.config.encoder.image_size = processor.feature_extractor.size[::-1] # (height, width)\n",
        "# Use GenerationConfig for generation parameters\n",
        "generation_config = GenerationConfig(\n",
        "    max_length=len(max(processed_dataset[\"train\"][\"labels\"], key=len))\n",
        ")\n",
        "model.generation_config = generation_config\n",
        "# model.config.decoder.max_length = len(max(processed_dataset[\"train\"][\"labels\"], key=len))\n",
        "\n",
        "# Add task token for decoder to start\n",
        "model.config.pad_token_id = processor.tokenizer.pad_token_id\n",
        "model.config.decoder_start_token_id = processor.tokenizer.convert_tokens_to_ids(['<s>'])[0]\n",
        "\n",
        "# is done by Trainer\n",
        "# device = \"cuda\" if torch.cuda.is_available() else \"cpu\"\n",
        "# model.to(device)"
      ],
      "metadata": {
        "colab": {
          "base_uri": "https://localhost:8080/"
        },
        "id": "R8c2z_1nZpVa",
        "outputId": "ba5d58db-7a5f-474a-c0e9-bff6e6cb4f95"
      },
      "execution_count": 12,
      "outputs": [
        {
          "output_type": "stream",
          "name": "stdout",
          "text": [
            "New embedding size: MBartScaledWordEmbedding(57597, 1024, padding_idx=1)\n"
          ]
        },
        {
          "output_type": "stream",
          "name": "stderr",
          "text": [
            "/usr/local/lib/python3.10/dist-packages/transformers/models/donut/processing_donut.py:193: FutureWarning: `feature_extractor` is deprecated and will be removed in v5. Use `image_processor` instead.\n",
            "  warnings.warn(\n"
          ]
        }
      ]
    },
    {
      "cell_type": "code",
      "source": [
        "!huggingface-cli login"
      ],
      "metadata": {
        "colab": {
          "base_uri": "https://localhost:8080/"
        },
        "id": "zVXcbq1lezuJ",
        "outputId": "9486de9a-5f49-4d6c-b8ce-d450733714b9"
      },
      "execution_count": 13,
      "outputs": [
        {
          "output_type": "stream",
          "name": "stdout",
          "text": [
            "\n",
            "    _|    _|  _|    _|    _|_|_|    _|_|_|  _|_|_|  _|      _|    _|_|_|      _|_|_|_|    _|_|      _|_|_|  _|_|_|_|\n",
            "    _|    _|  _|    _|  _|        _|          _|    _|_|    _|  _|            _|        _|    _|  _|        _|\n",
            "    _|_|_|_|  _|    _|  _|  _|_|  _|  _|_|    _|    _|  _|  _|  _|  _|_|      _|_|_|    _|_|_|_|  _|        _|_|_|\n",
            "    _|    _|  _|    _|  _|    _|  _|    _|    _|    _|    _|_|  _|    _|      _|        _|    _|  _|        _|\n",
            "    _|    _|    _|_|      _|_|_|    _|_|_|  _|_|_|  _|      _|    _|_|_|      _|        _|    _|    _|_|_|  _|_|_|_|\n",
            "\n",
            "    A token is already saved on your machine. Run `huggingface-cli whoami` to get more information or `huggingface-cli logout` if you want to log out.\n",
            "    Setting a new token will erase the existing one.\n",
            "    To login, `huggingface_hub` requires a token generated from https://huggingface.co/settings/tokens .\n",
            "Enter your token (input will not be visible): \n",
            "Add token as git credential? (Y/n) Y\n",
            "Token is valid (permission: fineGrained).\n",
            "Your token has been saved in your configured git credential helpers (store).\n",
            "Your token has been saved to /root/.cache/huggingface/token\n",
            "Login successful\n"
          ]
        }
      ]
    },
    {
      "cell_type": "code",
      "source": [
        "from huggingface_hub import HfFolder\n",
        "from transformers import Seq2SeqTrainingArguments, Seq2SeqTrainer\n",
        "\n",
        "# hyperparameters used for multiple args\n",
        "hf_repository_id = \"donut-base-sroie\"\n",
        "\n",
        "# Arguments for training\n",
        "training_args = Seq2SeqTrainingArguments(\n",
        "    output_dir=hf_repository_id,\n",
        "    num_train_epochs=3,\n",
        "    learning_rate=2e-5,\n",
        "    per_device_train_batch_size=2,\n",
        "    weight_decay=0.01,\n",
        "    fp16=True,\n",
        "    logging_steps=100,\n",
        "    save_total_limit=2,\n",
        "    evaluation_strategy=\"no\",\n",
        "    save_strategy=\"epoch\",\n",
        "    predict_with_generate=True,\n",
        "    # push to hub parameters\n",
        "    report_to=\"tensorboard\",\n",
        "    push_to_hub=True,\n",
        "    hub_strategy=\"every_save\",\n",
        "    hub_model_id=hf_repository_id,\n",
        "    hub_token=HfFolder.get_token(),\n",
        ")\n",
        "\n",
        "# Create Trainer\n",
        "trainer = Seq2SeqTrainer(\n",
        "    model=model,\n",
        "    args=training_args,\n",
        "    train_dataset=processed_dataset[\"train\"],\n",
        ")"
      ],
      "metadata": {
        "colab": {
          "base_uri": "https://localhost:8080/"
        },
        "id": "mCAUaL0paHxl",
        "outputId": "1e03a193-0e96-4cba-909b-3cf4edf94e3b"
      },
      "execution_count": 14,
      "outputs": [
        {
          "output_type": "stream",
          "name": "stderr",
          "text": [
            "/usr/local/lib/python3.10/dist-packages/transformers/training_args.py:1539: FutureWarning: `evaluation_strategy` is deprecated and will be removed in version 4.46 of 🤗 Transformers. Use `eval_strategy` instead\n",
            "  warnings.warn(\n"
          ]
        }
      ]
    },
    {
      "cell_type": "code",
      "source": [
        "# Start training\n",
        "trainer.train()"
      ],
      "metadata": {
        "colab": {
          "base_uri": "https://localhost:8080/",
          "height": 168
        },
        "id": "mlCnayn3eHcJ",
        "outputId": "3e7073d2-193b-48f6-fd90-37e891612a18"
      },
      "execution_count": 15,
      "outputs": [
        {
          "data": {
            "text/html": [
              "\n",
              "    <div>\n",
              "      \n",
              "      <progress value='10' max='9' style='width:300px; height:20px; vertical-align: middle;'></progress>\n",
              "      [9/9 12:51, Epoch 3/3]\n",
              "    </div>\n",
              "    <table border=\"1\" class=\"dataframe\">\n",
              "  <thead>\n",
              " <tr style=\"text-align: left;\">\n",
              "      <th>Step</th>\n",
              "      <th>Training Loss</th>\n",
              "    </tr>\n",
              "  </thead>\n",
              "  <tbody>\n",
              "  </tbody>\n",
              "</table><p>"
            ],
            "text/plain": [
              "<IPython.core.display.HTML object>"
            ]
          },
          "metadata": {},
          "output_type": "display_data"
        },
        {
          "output_type": "display_data",
          "data": {
            "text/plain": [
              "<IPython.core.display.HTML object>"
            ],
            "text/html": [
              "\n",
              "    <div>\n",
              "      \n",
              "      <progress value='9' max='9' style='width:300px; height:20px; vertical-align: middle;'></progress>\n",
              "      [9/9 18:07, Epoch 3/3]\n",
              "    </div>\n",
              "    <table border=\"1\" class=\"dataframe\">\n",
              "  <thead>\n",
              " <tr style=\"text-align: left;\">\n",
              "      <th>Step</th>\n",
              "      <th>Training Loss</th>\n",
              "    </tr>\n",
              "  </thead>\n",
              "  <tbody>\n",
              "  </tbody>\n",
              "</table><p>"
            ]
          },
          "metadata": {}
        },
        {
          "output_type": "execute_result",
          "data": {
            "text/plain": [
              "TrainOutput(global_step=9, training_loss=8.633139716254341, metrics={'train_runtime': 1176.2681, 'train_samples_per_second': 0.013, 'train_steps_per_second': 0.008, 'total_flos': 2.6383317055488e+16, 'train_loss': 8.633139716254341, 'epoch': 3.0})"
            ]
          },
          "metadata": {},
          "execution_count": 15
        }
      ]
    },
    {
      "cell_type": "code",
      "source": [
        "# Save processor and create model card\n",
        "processor.save_pretrained(hf_repository_id)\n",
        "trainer.create_model_card()\n",
        "trainer.push_to_hub()"
      ],
      "metadata": {
        "colab": {
          "base_uri": "https://localhost:8080/",
          "height": 84,
          "referenced_widgets": [
            "54bca68cc6d141ccbe8fc29325e00394",
            "96a0776a09914b91af00872a2db089db",
            "efbec0cae05146a18492ec009f4f3513",
            "041bf4e8c18c44489207aae7e0527d02",
            "fe515ba93c194e6783120eee3d365e06",
            "2ae26fdfe4d84639bda7a9599ae42dfc",
            "8fb5ded7659a403e90e5ee12d8c6215a",
            "bf71565238f24595a66f6a51d2e9ab34",
            "2bfb193ae4884ef8a0d2f018b1c6cd14",
            "bd3bdd54ae7948b397ab4ced635e7ad9",
            "cf24498b93d34e2ea43989ca448e9c1e"
          ]
        },
        "id": "yF8oX_e1z3dL",
        "outputId": "dda8c7f5-b794-47e8-f205-6dd14469c606"
      },
      "execution_count": 17,
      "outputs": [
        {
          "output_type": "display_data",
          "data": {
            "text/plain": [
              "sentencepiece.bpe.model:   0%|          | 0.00/1.30M [00:00<?, ?B/s]"
            ],
            "application/vnd.jupyter.widget-view+json": {
              "version_major": 2,
              "version_minor": 0,
              "model_id": "54bca68cc6d141ccbe8fc29325e00394"
            }
          },
          "metadata": {}
        },
        {
          "output_type": "execute_result",
          "data": {
            "text/plain": [
              "CommitInfo(commit_url='https://huggingface.co/ashokaswiftclaims/donut-base-sroie/commit/7409ec772726e735a05923bfd917bfe6ad2d3454', commit_message='End of training', commit_description='', oid='7409ec772726e735a05923bfd917bfe6ad2d3454', pr_url=None, pr_revision=None, pr_num=None)"
            ],
            "application/vnd.google.colaboratory.intrinsic+json": {
              "type": "string"
            }
          },
          "metadata": {},
          "execution_count": 17
        }
      ]
    },
    {
      "cell_type": "code",
      "source": [
        "print(\"Starting the script...\")  # Add this at the very beginning\n",
        "\n",
        "import re\n",
        "import transformers\n",
        "from PIL import Image\n",
        "from transformers import DonutProcessor, VisionEncoderDecoderModel\n",
        "import torch\n",
        "import random\n",
        "import numpy as np\n",
        "from torchvision.transforms.functional import to_pil_image\n",
        "\n",
        "# hide logs\n",
        "transformers.logging.disable_default_handler()\n",
        "\n",
        "# Load our model from Hugging Face\n",
        "processor = DonutProcessor.from_pretrained(\"ashokaswiftclaims/donut-base-sroie\")\n",
        "model = VisionEncoderDecoderModel.from_pretrained(\"ashokaswiftclaims/donut-base-sroie\")\n",
        "\n",
        "# Move model to GPU\n",
        "device = \"cuda\" if torch.cuda.is_available() else \"cpu\"\n",
        "model.to(device)\n",
        "\n",
        "# Load random document image from the test set\n",
        "test_sample = processed_dataset[\"test\"][0]\n",
        "\n",
        "def run_prediction(sample, model=model, processor=processor):\n",
        "    try:\n",
        "        print(\"Running prediction...\")\n",
        "\n",
        "        # Prepare inputs\n",
        "        print(\"Preparing inputs...\")\n",
        "        pixel_values = torch.tensor(sample[\"pixel_values\"]).unsqueeze(0)\n",
        "        task_prompt = \"<s>\"\n",
        "        decoder_input_ids = processor.tokenizer(task_prompt, add_special_tokens=False, return_tensors=\"pt\").input_ids\n",
        "\n",
        "        print(\"Running inference...\")\n",
        "        # Run inference\n",
        "        outputs = model.generate(\n",
        "            pixel_values.to(device),\n",
        "            decoder_input_ids=decoder_input_ids.to(device),\n",
        "            max_length=model.decoder.config.max_position_embeddings,\n",
        "            early_stopping=True,\n",
        "            pad_token_id=processor.tokenizer.pad_token_id,\n",
        "            eos_token_id=processor.tokenizer.eos_token_id,\n",
        "            use_cache=True,\n",
        "            num_beams=1,\n",
        "            bad_words_ids=[[processor.tokenizer.unk_token_id]],\n",
        "            return_dict_in_generate=True,\n",
        "            decoder_start_token_id=processor.tokenizer.bos_token_id\n",
        "        )\n",
        "\n",
        "        # Process output\n",
        "        print(\"Processing output...\")\n",
        "        prediction = processor.batch_decode(outputs.sequences)[0]\n",
        "        prediction = processor.token2json(prediction)\n",
        "\n",
        "        # Load reference target\n",
        "        print(\"Loading reference target...\")\n",
        "        target = processor.token2json(sample[\"target_sequence\"])\n",
        "\n",
        "        print(\"Prediction and target successfully processed.\")\n",
        "        return prediction, target\n",
        "\n",
        "    except Exception as e:\n",
        "        print(f\"Error during prediction: {e}\")\n",
        "        return None, None\n",
        "\n",
        "# Run the prediction\n",
        "prediction, target = run_prediction(test_sample)\n",
        "\n",
        "if prediction and target:\n",
        "    print(f\"Reference:\\n {target}\")\n",
        "    print(f\"Prediction:\\n {prediction}\")\n",
        "else:\n",
        "    print(\"Prediction or target is None.\")"
      ],
      "metadata": {
        "id": "WWQ5kJvJAf0M"
      },
      "execution_count": 40,
      "outputs": []
    },
    {
      "cell_type": "code",
      "source": [
        "print(f\"Reference:\\n {target}\")\n",
        "print(f\"Prediction:\\n {prediction}\")"
      ],
      "metadata": {
        "id": "Wx1C9O_T9oLG"
      },
      "execution_count": 37,
      "outputs": []
    },
    {
      "cell_type": "code",
      "source": [
        "# Investigate the shape and content of pixel_values\n",
        "print(np.array(test_sample[\"pixel_values\"]).shape)\n",
        "# Check if the values in pixel_values represent image data as expected\n",
        "\n",
        "# Extract image data from test_sample and assign it to image_data\n",
        "image_data = np.array(test_sample[\"pixel_values\"])  # Assuming pixel_values holds the image data\n",
        "# Transpose the image data to the correct channel order (channels first)\n",
        "image_data = np.transpose(image_data, (1, 2, 0))\n",
        "\n",
        "# Now you can use image_data with to_pil_image\n",
        "to_pil_image(image_data).resize((350,600))"
      ],
      "metadata": {
        "colab": {
          "base_uri": "https://localhost:8080/",
          "height": 617
        },
        "id": "27URWq4L6wit",
        "outputId": "a4b4cb12-f139-45de-e809-ee194285b82f"
      },
      "execution_count": 26,
      "outputs": [
        {
          "output_type": "execute_result",
          "data": {
            "text/plain": [
              "<PIL.Image.Image image mode=RGB size=350x600>"
            ],
            "image/png": "[encoded data removed]"
          },
          "metadata": {},
          "execution_count": 26
        }
      ]
    },
    {
      "cell_type": "code",
      "source": [
        "from tqdm import tqdm\n",
        "\n",
        "# define counter for samples\n",
        "true_counter = 0\n",
        "total_counter = 0\n",
        "\n",
        "# iterate over dataset\n",
        "for sample in tqdm(processed_dataset[\"test\"]):\n",
        "  prediction, target = run_prediction(test_sample)\n",
        "  for s in zip(prediction.values(), target.values()):\n",
        "    if s[0] == s[1]:\n",
        "      true_counter += 1\n",
        "    total_counter += 1\n",
        "\n",
        "print(f\"Accuracy: {(true_counter/total_counter)*100}%\")\n",
        "# Accuracy: 75.0%"
      ],
      "metadata": {
        "colab": {
          "base_uri": "https://localhost:8080/"
        },
        "id": "5l88Mhpu7rdj",
        "outputId": "1594f0ee-1c58-483c-8652-e7fa1c4dafd6"
      },
      "execution_count": 29,
      "outputs": [
        {
          "output_type": "stream",
          "name": "stderr",
          "text": [
            "100%|██████████| 1/1 [02:11<00:00, 131.54s/it]\n"
          ]
        }
      ]
    }
  ]
}